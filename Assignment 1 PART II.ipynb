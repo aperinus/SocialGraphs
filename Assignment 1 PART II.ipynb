{
 "cells": [
  {
   "cell_type": "code",
   "execution_count": 93,
   "id": "73e6c8e1",
   "metadata": {},
   "outputs": [],
   "source": [
    "import numpy as np\n",
    "import pandas as pd\n",
    "import random\n",
    "import networkx as nx\n",
    "import matplotlib.pyplot as plt\n",
    "import math\n",
    "import scipy.stats"
   ]
  },
  {
   "cell_type": "markdown",
   "id": "7bfcfd82",
   "metadata": {},
   "source": [
    "# Erdős-Rényi Networks\n",
    "\n",
    "Consider an Erdős-Rényi network with N = 3,000 nodes, connected to each other with probability p = 10^(-3)"
   ]
  },
  {
   "cell_type": "markdown",
   "id": "1d467ddd",
   "metadata": {},
   "source": [
    "1."
   ]
  },
  {
   "cell_type": "markdown",
   "id": "03152c73",
   "metadata": {},
   "source": [
    "What is the expected number of links?"
   ]
  },
  {
   "cell_type": "code",
   "execution_count": 53,
   "id": "fc02c583",
   "metadata": {},
   "outputs": [
    {
     "data": {
      "text/plain": [
       "4498.5"
      ]
     },
     "execution_count": 53,
     "metadata": {},
     "output_type": "execute_result"
    }
   ],
   "source": [
    "P = 10**(-3)\n",
    "N = 3000\n",
    "EXPECTED_LINK_NUMBER = P*N*(N-1)*0.5\n",
    "EXPECTED_LINK_NUMBER"
   ]
  },
  {
   "cell_type": "code",
   "execution_count": 58,
   "id": "95936326",
   "metadata": {},
   "outputs": [
    {
     "name": "stdout",
     "output_type": "stream",
     "text": [
      "4571\n"
     ]
    }
   ],
   "source": [
    "# TEST IT:\n",
    "L = 0\n",
    "for i in range(4498500):  #(N(N-1)/2)\n",
    "    x = random.random()\n",
    "    if x < 10**(-3):\n",
    "        L = L + 1\n",
    "\n",
    "print(L)\n",
    "\n",
    "# Almost same"
   ]
  },
  {
   "cell_type": "markdown",
   "id": "5c4d7bf0",
   "metadata": {},
   "source": [
    "2."
   ]
  },
  {
   "cell_type": "markdown",
   "id": "7f852ab6",
   "metadata": {},
   "source": [
    "In which regime is the network?"
   ]
  },
  {
   "cell_type": "code",
   "execution_count": 60,
   "id": "b539b258",
   "metadata": {},
   "outputs": [
    {
     "data": {
      "text/plain": [
       "2.999"
      ]
     },
     "execution_count": 60,
     "metadata": {},
     "output_type": "execute_result"
    }
   ],
   "source": [
    "P = 10**(-3)\n",
    "N = 3000\n",
    "Average_K = P*(N-1)\n",
    "Average_K"
   ]
  },
  {
   "cell_type": "code",
   "execution_count": 61,
   "id": "45216f4e",
   "metadata": {},
   "outputs": [],
   "source": [
    "# Because Average_K > 1 , so it is in the Supercritical Regime."
   ]
  },
  {
   "cell_type": "markdown",
   "id": "f64e7bc4",
   "metadata": {},
   "source": [
    "3."
   ]
  },
  {
   "cell_type": "markdown",
   "id": "b70673a1",
   "metadata": {},
   "source": [
    "Calculate the probability P_c so that the network is at the critical point"
   ]
  },
  {
   "cell_type": "code",
   "execution_count": 63,
   "id": "5bd6e3e7",
   "metadata": {},
   "outputs": [
    {
     "data": {
      "text/plain": [
       "0.0003333333333333333"
      ]
     },
     "execution_count": 63,
     "metadata": {},
     "output_type": "execute_result"
    }
   ],
   "source": [
    "# We need to let p = 1/N\n",
    "P_c = 1/3000\n",
    "P_c"
   ]
  },
  {
   "cell_type": "code",
   "execution_count": 64,
   "id": "484ce68c",
   "metadata": {},
   "outputs": [],
   "source": [
    "# P_c = 0.0003333333333333333"
   ]
  },
  {
   "cell_type": "markdown",
   "id": "f11e7f6c",
   "metadata": {},
   "source": [
    "4."
   ]
  },
  {
   "cell_type": "markdown",
   "id": "57a782b9",
   "metadata": {},
   "source": [
    "Given the linking probability p = 10**(–3), calculate the number of nodes Ncr so that the network has only one component."
   ]
  },
  {
   "cell_type": "code",
   "execution_count": 78,
   "id": "1110be09",
   "metadata": {},
   "outputs": [
    {
     "data": {
      "text/plain": [
       "9118"
      ]
     },
     "execution_count": 78,
     "metadata": {},
     "output_type": "execute_result"
    }
   ],
   "source": [
    "#According to the formula 3.41: p = ln N/ N\n",
    "#We use wolframalpha to calculate, N1 = 1.001, N2 = 9118.01\n",
    "#We can draw a simple graph about this equation:\n",
    "# Np = ln N, namely 0.001*N = ln N, \n",
    "# the solution is the intersection of a linear equation function and a logarithmic function.\n",
    "# So we can find 2 solutions, one is extremely close to N=1, the other is calculated as 9118\n",
    "\n",
    "N_CR = 9118\n",
    "N_CR"
   ]
  },
  {
   "cell_type": "markdown",
   "id": "76e08d95",
   "metadata": {},
   "source": [
    "5."
   ]
  },
  {
   "cell_type": "markdown",
   "id": "f561ea7f",
   "metadata": {},
   "source": [
    "For the network in (d), calculate the average degree 〈kcr〉 and the average distance between two randomly chosen nodes 〈d〉."
   ]
  },
  {
   "cell_type": "code",
   "execution_count": 86,
   "id": "cc5bdc39",
   "metadata": {},
   "outputs": [
    {
     "data": {
      "text/plain": [
       "9.117"
      ]
     },
     "execution_count": 86,
     "metadata": {},
     "output_type": "execute_result"
    }
   ],
   "source": [
    "P = 0.001\n",
    "N = 9118\n",
    "Average_KCR = P*(N-1)\n",
    "Average_KCR"
   ]
  },
  {
   "cell_type": "code",
   "execution_count": 87,
   "id": "aa1e6334",
   "metadata": {},
   "outputs": [
    {
     "data": {
      "text/plain": [
       "4.125531617730235"
      ]
     },
     "execution_count": 87,
     "metadata": {},
     "output_type": "execute_result"
    }
   ],
   "source": [
    "# Average distance = ln N / ln <K>\n",
    "Average_Disdance = np.log(N)/np.log(Average_KCR)\n",
    "Average_Disdance"
   ]
  },
  {
   "cell_type": "markdown",
   "id": "d18085fc",
   "metadata": {},
   "source": [
    "6."
   ]
  },
  {
   "cell_type": "markdown",
   "id": "8848fdac",
   "metadata": {},
   "source": [
    "Calculate the degree distribution pk of this network (approximate with a Poisson degree distribution)."
   ]
  },
  {
   "cell_type": "code",
   "execution_count": 92,
   "id": "61e0f75f",
   "metadata": {},
   "outputs": [
    {
     "name": "stdout",
     "output_type": "stream",
     "text": [
      "when k = 3, pk= 0.013865700733935013\n"
     ]
    }
   ],
   "source": [
    "# The probability that the degree of the node is k:  p**k\n",
    "# The probability that the remaining (N-1-k) links are missing: (1-p)**(N-1-k) \n",
    "# The number of ways we can select k links from N- 1 potential links a node can have: C (k,N-1)\n",
    "\n",
    "\n",
    "# So, pk = math.exp(-Average_KCR)*Average_KCR**k/math.factorial(k)\n",
    "# For example, we try k = 3\n",
    "k=3\n",
    "pk = math.exp(-Average_KCR)*Average_KCR**k/math.factorial(k)\n",
    "print('when k = 3, pk=',pk)"
   ]
  },
  {
   "cell_type": "code",
   "execution_count": 95,
   "id": "27eb3c02",
   "metadata": {},
   "outputs": [
    {
     "name": "stderr",
     "output_type": "stream",
     "text": [
      "d:\\python\\lib\\site-packages\\seaborn\\distributions.py:2619: FutureWarning: `distplot` is a deprecated function and will be removed in a future version. Please adapt your code to use either `displot` (a figure-level function with similar flexibility) or `histplot` (an axes-level function for histograms).\n",
      "  warnings.warn(msg, FutureWarning)\n"
     ]
    },
    {
     "data": {
      "text/plain": [
       "[Text(0.5, 0, 'Poisson Distribution'), Text(0, 0.5, 'Frequency')]"
      ]
     },
     "execution_count": 95,
     "metadata": {},
     "output_type": "execute_result"
    },
    {
     "data": {
      "image/png": "[encoded data removed]",
      "text/plain": [
       "<Figure size 432x288 with 1 Axes>"
      ]
     },
     "metadata": {
      "needs_background": "light"
     },
     "output_type": "display_data"
    }
   ],
   "source": [
    "# Make a graph about the degree distribution\n",
    "from scipy.stats import poisson\n",
    "import seaborn as sns\n",
    "data_poisson = poisson.rvs(mu=Average_KCR, size=10000)\n",
    "ax = sns.distplot(data_poisson,\n",
    "                  bins=30,\n",
    "                  kde=False,\n",
    "                  color=\"green\",\n",
    "                  hist_kws={\"linewidth\": 15,'alpha':1})\n",
    "ax.set(xlabel='Poisson Distribution', ylabel='Frequency')"
   ]
  },
  {
   "cell_type": "markdown",
   "id": "91f6e793",
   "metadata": {},
   "source": [
    "# Generating Erdős-Rényi Networks"
   ]
  },
  {
   "cell_type": "markdown",
   "id": "0fbd756a",
   "metadata": {},
   "source": [
    "Relying on the G(N, p) model, generate with a computer three networks with N = 500 nodes and average degree (a) 〈k〉 = 0.8, (b) 〈k〉 = 1 and (c) 〈k〉 = 8. Visualize these networks."
   ]
  },
  {
   "cell_type": "code",
   "execution_count": 128,
   "id": "d6d502ab",
   "metadata": {},
   "outputs": [],
   "source": [
    "#<k> = p(N-1), p = <k>/(N-1)\n",
    "p1 = 0.8/499\n",
    "p2 = 1/499\n",
    "p3 = 8/499\n"
   ]
  },
  {
   "cell_type": "code",
   "execution_count": 129,
   "id": "e3307efe",
   "metadata": {},
   "outputs": [],
   "source": [
    "def get_ER_graph(n,p):\n",
    "    G = nx.Graph() # creat an empty graph\n",
    "    G.add_nodes_from([i for i in range(n)]) # add the nodes\n",
    "    # Next we add the edges:\n",
    "    for i in G.nodes(): # traverse all the connections\n",
    "        for j in G.nodes():\n",
    "            if i != j:\n",
    "                x = random.random()\n",
    "                if x <= p:\n",
    "                    G.add_edge(i,j)\n",
    "                else:\n",
    "                    continue\n",
    "    nx.draw(G)\n",
    "    plt.show()"
   ]
  },
  {
   "cell_type": "code",
   "execution_count": 130,
   "id": "869671ae",
   "metadata": {},
   "outputs": [
    {
     "data": {
      "image/png": "[encoded data removed]",
      "text/plain": [
       "<Figure size 432x288 with 1 Axes>"
      ]
     },
     "metadata": {},
     "output_type": "display_data"
    }
   ],
   "source": [
    "get_ER_graph(500,p1)"
   ]
  },
  {
   "cell_type": "code",
   "execution_count": 131,
   "id": "32bab57e",
   "metadata": {},
   "outputs": [
    {
     "data": {
      "image/png": "[encoded data removed]",
      "text/plain": [
       "<Figure size 432x288 with 1 Axes>"
      ]
     },
     "metadata": {},
     "output_type": "display_data"
    }
   ],
   "source": [
    "get_ER_graph(500,p2)"
   ]
  },
  {
   "cell_type": "code",
   "execution_count": 132,
   "id": "5bf18223",
   "metadata": {},
   "outputs": [
    {
     "data": {
      "image/png": "[encoded data removed]",
      "text/plain": [
       "<Figure size 432x288 with 1 Axes>"
      ]
     },
     "metadata": {},
     "output_type": "display_data"
    }
   ],
   "source": [
    "get_ER_graph(500,p3)"
   ]
  },
  {
   "cell_type": "markdown",
   "id": "a6fb6220",
   "metadata": {},
   "source": [
    "# Circle Network"
   ]
  },
  {
   "cell_type": "markdown",
   "id": "ba53077c",
   "metadata": {},
   "source": [
    "Consider a network with N nodes placed on a circle, so that each node connects to m neighbors on either side (consequently each node has degree 2m). Image 3.14(a) shows an example of such a network with m = 2 and N = 20. Calculate the average clustering coefficient 〈C〉 of this network and the average shortest path 〈d〉. For simplicity assume that N and m are chosen such that (n-1)/2m is an integer. What happens to 〈C〉 if N≫1? And what happens to 〈d〉?"
   ]
  },
  {
   "cell_type": "code",
   "execution_count": 141,
   "id": "ad82ef5b",
   "metadata": {},
   "outputs": [
    {
     "data": {
      "text/plain": [
       "0.5"
      ]
     },
     "execution_count": 141,
     "metadata": {},
     "output_type": "execute_result"
    }
   ],
   "source": [
    "# We can find that all the nodes' degree are eaual. So we can calculate the average clustering coefficient by using one specific node.\n",
    "# So the value = 2*3/[(2*2)*(2*2-1)] = 1/2\n",
    "# Genernally, according to https://sites.pitt.edu/~kpele/Materials15/module8.pdf\n",
    "\n",
    "#average_clustering_coefficient = 3*(2m-2)/((4*2m-1))\n",
    "average_clustering_coefficient"
   ]
  },
  {
   "cell_type": "code",
   "execution_count": 142,
   "id": "84dad19f",
   "metadata": {},
   "outputs": [],
   "source": [
    "# When 2m = Positive infinity: average_clustering_coefficient = 0.75\n",
    "# When m = 1 : average_clustering_coefficient = 0"
   ]
  },
  {
   "cell_type": "markdown",
   "id": "26bb8792",
   "metadata": {},
   "source": [
    "# Cayley Tree"
   ]
  },
  {
   "cell_type": "markdown",
   "id": "626a363f",
   "metadata": {},
   "source": [
    "A Cayley tree is a symmetric tree, constructed starting from a central node of degree k. Each node at distance d from the central node has degree k, until we reach the nodes at distance P that have degree one and are called leaves (see Image 3.16 for a Cayley tree with k = 3 and P = 5.)"
   ]
  },
  {
   "cell_type": "markdown",
   "id": "53536c30",
   "metadata": {},
   "source": [
    "1."
   ]
  },
  {
   "cell_type": "markdown",
   "id": "185d06af",
   "metadata": {},
   "source": [
    "Calculate the number of nodes reachable in t steps from the central node."
   ]
  },
  {
   "cell_type": "markdown",
   "id": "96a4a2c2",
   "metadata": {},
   "source": [
    "# Paths\n",
    "Plot a random network with 200 nodes and an average degree of 1.5. (I suggest using networkx.draw and reading the documentation carefully to get an overview of all the options and what they look like. For example, you may want to shrink the node size)."
   ]
  },
  {
   "cell_type": "code",
   "execution_count": 202,
   "id": "aa382c4b",
   "metadata": {},
   "outputs": [
    {
     "data": {
      "text/plain": [
       "(200, 0.007537688442211055)"
      ]
     },
     "execution_count": 202,
     "metadata": {},
     "output_type": "execute_result"
    }
   ],
   "source": [
    "G = nx.Graph()\n",
    "# <k> = 1.5 = p*(N-1)\n",
    "# p = 1.5/(N-1)\n",
    "N = 200\n",
    "p = 1.5/(200-1)\n",
    "N,p"
   ]
  },
  {
   "cell_type": "code",
   "execution_count": 203,
   "id": "5ecbf197",
   "metadata": {},
   "outputs": [],
   "source": [
    "# I do not know whether this function is right\n",
    "def get_ER_graph(n,p):\n",
    "    G = nx.Graph() # creat an empty graph\n",
    "    G.add_nodes_from([i for i in range(n)]) # add the nodes\n",
    "    # Next we add the edges:\n",
    "    for i in G.nodes(): # traverse all the connections\n",
    "        for j in G.nodes():\n",
    "            if i != j:\n",
    "                x = random.random()\n",
    "                if x <= p:\n",
    "                    G.add_edge(i,j)\n",
    "                else:\n",
    "                    continue\n",
    "    return G"
   ]
  },
  {
   "cell_type": "code",
   "execution_count": 204,
   "id": "033c9dc1",
   "metadata": {
    "scrolled": true
   },
   "outputs": [],
   "source": [
    "ER = get_ER_graph(200,p)"
   ]
  },
  {
   "cell_type": "code",
   "execution_count": 205,
   "id": "0d9412da",
   "metadata": {
    "scrolled": true
   },
   "outputs": [
    {
     "data": {
      "image/png": "[encoded data removed]",
      "text/plain": [
       "<Figure size 864x576 with 1 Axes>"
      ]
     },
     "metadata": {},
     "output_type": "display_data"
    }
   ],
   "source": [
    "#nx.draw_networkx(G,[ pos, arrows, with_labels])\n",
    "\n",
    "#pos = [nx.circular_layout(ER)]\n",
    "pos = [nx.spring_layout(ER)]\n",
    "options = {\n",
    "    \"node_color\": 'black',\n",
    "    \"node_size\": 5,\n",
    "    \"edge_color\": 'r',\n",
    "    \"with_labels\": False,\n",
    "}\n",
    "plt.figure(figsize=(12,8))\n",
    "nx.draw_networkx(ER,pos[0], **options)\n",
    "plt.show()"
   ]
  },
  {
   "cell_type": "code",
   "execution_count": 206,
   "id": "aa030816",
   "metadata": {},
   "outputs": [
    {
     "data": {
      "image/png": "[encoded data removed]",
      "text/plain": [
       "<Figure size 864x576 with 1 Axes>"
      ]
     },
     "metadata": {},
     "output_type": "display_data"
    }
   ],
   "source": [
    "# Let's use the official library: nx.erdos_renyi_graph(n, p, seed=None, directed=False)\n",
    "n = 200\n",
    "k = 1.5\n",
    "p = k / (n - 1)\n",
    "ER2 = nx.erdos_renyi_graph(n, p, seed=None, directed=False)\n",
    "\n",
    "pos = [nx.spring_layout(ER2)]\n",
    "options = {\n",
    "    \"node_color\": 'black',\n",
    "    \"node_size\": 5,\n",
    "    \"edge_color\": 'r',\n",
    "    \"with_labels\": False,\n",
    "}\n",
    "plt.figure(figsize=(12,8))\n",
    "nx.draw_networkx(ER2,pos[0], **options)\n",
    "# nx.draw(er_g, pos=nx.spring_layout(er_g), node_size=20,node_shape='*')\n",
    "plt.show()"
   ]
  },
  {
   "cell_type": "markdown",
   "id": "8665ee1d",
   "metadata": {},
   "source": [
    "Extract the Giant Connected Component, GCC. (Hint. You can use networkx.connected_component_subgraphs)"
   ]
  },
  {
   "cell_type": "code",
   "execution_count": 220,
   "id": "40902674",
   "metadata": {},
   "outputs": [
    {
     "data": {
      "text/plain": [
       "[{0,\n",
       "  1,\n",
       "  2,\n",
       "  3,\n",
       "  4,\n",
       "  5,\n",
       "  6,\n",
       "  7,\n",
       "  8,\n",
       "  9,\n",
       "  10,\n",
       "  11,\n",
       "  12,\n",
       "  14,\n",
       "  15,\n",
       "  16,\n",
       "  17,\n",
       "  18,\n",
       "  20,\n",
       "  21,\n",
       "  22,\n",
       "  23,\n",
       "  24,\n",
       "  25,\n",
       "  26,\n",
       "  27,\n",
       "  28,\n",
       "  29,\n",
       "  30,\n",
       "  31,\n",
       "  32,\n",
       "  34,\n",
       "  35,\n",
       "  36,\n",
       "  37,\n",
       "  38,\n",
       "  39,\n",
       "  40,\n",
       "  41,\n",
       "  42,\n",
       "  43,\n",
       "  44,\n",
       "  45,\n",
       "  46,\n",
       "  47,\n",
       "  48,\n",
       "  49,\n",
       "  50,\n",
       "  52,\n",
       "  53,\n",
       "  54,\n",
       "  55,\n",
       "  56,\n",
       "  57,\n",
       "  58,\n",
       "  59,\n",
       "  60,\n",
       "  61,\n",
       "  62,\n",
       "  63,\n",
       "  64,\n",
       "  65,\n",
       "  66,\n",
       "  67,\n",
       "  68,\n",
       "  69,\n",
       "  70,\n",
       "  71,\n",
       "  72,\n",
       "  73,\n",
       "  75,\n",
       "  77,\n",
       "  78,\n",
       "  79,\n",
       "  80,\n",
       "  81,\n",
       "  82,\n",
       "  83,\n",
       "  84,\n",
       "  86,\n",
       "  87,\n",
       "  88,\n",
       "  89,\n",
       "  90,\n",
       "  91,\n",
       "  92,\n",
       "  93,\n",
       "  94,\n",
       "  95,\n",
       "  96,\n",
       "  97,\n",
       "  98,\n",
       "  99,\n",
       "  101,\n",
       "  102,\n",
       "  103,\n",
       "  104,\n",
       "  105,\n",
       "  106,\n",
       "  107,\n",
       "  108,\n",
       "  109,\n",
       "  110,\n",
       "  111,\n",
       "  112,\n",
       "  113,\n",
       "  114,\n",
       "  115,\n",
       "  116,\n",
       "  117,\n",
       "  118,\n",
       "  119,\n",
       "  120,\n",
       "  121,\n",
       "  122,\n",
       "  123,\n",
       "  124,\n",
       "  125,\n",
       "  126,\n",
       "  127,\n",
       "  128,\n",
       "  129,\n",
       "  130,\n",
       "  132,\n",
       "  133,\n",
       "  134,\n",
       "  135,\n",
       "  136,\n",
       "  137,\n",
       "  138,\n",
       "  139,\n",
       "  140,\n",
       "  141,\n",
       "  142,\n",
       "  143,\n",
       "  144,\n",
       "  145,\n",
       "  146,\n",
       "  147,\n",
       "  148,\n",
       "  149,\n",
       "  150,\n",
       "  151,\n",
       "  152,\n",
       "  153,\n",
       "  154,\n",
       "  155,\n",
       "  156,\n",
       "  157,\n",
       "  158,\n",
       "  159,\n",
       "  160,\n",
       "  161,\n",
       "  162,\n",
       "  164,\n",
       "  165,\n",
       "  166,\n",
       "  167,\n",
       "  169,\n",
       "  170,\n",
       "  171,\n",
       "  172,\n",
       "  173,\n",
       "  174,\n",
       "  175,\n",
       "  176,\n",
       "  177,\n",
       "  178,\n",
       "  179,\n",
       "  181,\n",
       "  182,\n",
       "  183,\n",
       "  184,\n",
       "  185,\n",
       "  186,\n",
       "  187,\n",
       "  188,\n",
       "  189,\n",
       "  190,\n",
       "  191,\n",
       "  192,\n",
       "  193,\n",
       "  194,\n",
       "  195,\n",
       "  196,\n",
       "  197,\n",
       "  198,\n",
       "  199},\n",
       " {13},\n",
       " {19},\n",
       " {33},\n",
       " {51},\n",
       " {74},\n",
       " {76},\n",
       " {85},\n",
       " {100},\n",
       " {131},\n",
       " {163},\n",
       " {168},\n",
       " {180}]"
      ]
     },
     "execution_count": 220,
     "metadata": {},
     "output_type": "execute_result"
    }
   ],
   "source": [
    "# connected_component_subgraphs(G, copy=True) \n",
    "# https://networkx.org/documentation/networkx-1.9/reference/generated/networkx.algorithms.components.connected.connected_component_subgraphs.html\n",
    "\n",
    "GCClist = sorted(nx.connected_components(ER), key = len, reverse=True)\n",
    "GCClist"
   ]
  },
  {
   "cell_type": "code",
   "execution_count": 221,
   "id": "6abca0f0",
   "metadata": {},
   "outputs": [
    {
     "data": {
      "text/plain": [
       "{0,\n",
       " 1,\n",
       " 2,\n",
       " 3,\n",
       " 4,\n",
       " 5,\n",
       " 6,\n",
       " 7,\n",
       " 8,\n",
       " 9,\n",
       " 10,\n",
       " 11,\n",
       " 12,\n",
       " 14,\n",
       " 15,\n",
       " 16,\n",
       " 17,\n",
       " 18,\n",
       " 20,\n",
       " 21,\n",
       " 22,\n",
       " 23,\n",
       " 24,\n",
       " 25,\n",
       " 26,\n",
       " 27,\n",
       " 28,\n",
       " 29,\n",
       " 30,\n",
       " 31,\n",
       " 32,\n",
       " 34,\n",
       " 35,\n",
       " 36,\n",
       " 37,\n",
       " 38,\n",
       " 39,\n",
       " 40,\n",
       " 41,\n",
       " 42,\n",
       " 43,\n",
       " 44,\n",
       " 45,\n",
       " 46,\n",
       " 47,\n",
       " 48,\n",
       " 49,\n",
       " 50,\n",
       " 52,\n",
       " 53,\n",
       " 54,\n",
       " 55,\n",
       " 56,\n",
       " 57,\n",
       " 58,\n",
       " 59,\n",
       " 60,\n",
       " 61,\n",
       " 62,\n",
       " 63,\n",
       " 64,\n",
       " 65,\n",
       " 66,\n",
       " 67,\n",
       " 68,\n",
       " 69,\n",
       " 70,\n",
       " 71,\n",
       " 72,\n",
       " 73,\n",
       " 75,\n",
       " 77,\n",
       " 78,\n",
       " 79,\n",
       " 80,\n",
       " 81,\n",
       " 82,\n",
       " 83,\n",
       " 84,\n",
       " 86,\n",
       " 87,\n",
       " 88,\n",
       " 89,\n",
       " 90,\n",
       " 91,\n",
       " 92,\n",
       " 93,\n",
       " 94,\n",
       " 95,\n",
       " 96,\n",
       " 97,\n",
       " 98,\n",
       " 99,\n",
       " 101,\n",
       " 102,\n",
       " 103,\n",
       " 104,\n",
       " 105,\n",
       " 106,\n",
       " 107,\n",
       " 108,\n",
       " 109,\n",
       " 110,\n",
       " 111,\n",
       " 112,\n",
       " 113,\n",
       " 114,\n",
       " 115,\n",
       " 116,\n",
       " 117,\n",
       " 118,\n",
       " 119,\n",
       " 120,\n",
       " 121,\n",
       " 122,\n",
       " 123,\n",
       " 124,\n",
       " 125,\n",
       " 126,\n",
       " 127,\n",
       " 128,\n",
       " 129,\n",
       " 130,\n",
       " 132,\n",
       " 133,\n",
       " 134,\n",
       " 135,\n",
       " 136,\n",
       " 137,\n",
       " 138,\n",
       " 139,\n",
       " 140,\n",
       " 141,\n",
       " 142,\n",
       " 143,\n",
       " 144,\n",
       " 145,\n",
       " 146,\n",
       " 147,\n",
       " 148,\n",
       " 149,\n",
       " 150,\n",
       " 151,\n",
       " 152,\n",
       " 153,\n",
       " 154,\n",
       " 155,\n",
       " 156,\n",
       " 157,\n",
       " 158,\n",
       " 159,\n",
       " 160,\n",
       " 161,\n",
       " 162,\n",
       " 164,\n",
       " 165,\n",
       " 166,\n",
       " 167,\n",
       " 169,\n",
       " 170,\n",
       " 171,\n",
       " 172,\n",
       " 173,\n",
       " 174,\n",
       " 175,\n",
       " 176,\n",
       " 177,\n",
       " 178,\n",
       " 179,\n",
       " 181,\n",
       " 182,\n",
       " 183,\n",
       " 184,\n",
       " 185,\n",
       " 186,\n",
       " 187,\n",
       " 188,\n",
       " 189,\n",
       " 190,\n",
       " 191,\n",
       " 192,\n",
       " 193,\n",
       " 194,\n",
       " 195,\n",
       " 196,\n",
       " 197,\n",
       " 198,\n",
       " 199}"
      ]
     },
     "execution_count": 221,
     "metadata": {},
     "output_type": "execute_result"
    }
   ],
   "source": [
    "max(GCClist)"
   ]
  },
  {
   "cell_type": "code",
   "execution_count": null,
   "id": "8e738626",
   "metadata": {},
   "outputs": [],
   "source": []
  }
 ],
 "metadata": {
  "kernelspec": {
   "display_name": "Python 3 (ipykernel)",
   "language": "python",
   "name": "python3"
  },
  "language_info": {
   "codemirror_mode": {
    "name": "ipython",
    "version": 3
   },
   "file_extension": ".py",
   "mimetype": "text/x-python",
   "name": "python",
   "nbconvert_exporter": "python",
   "pygments_lexer": "ipython3",
   "version": "3.9.4"
  }
 },
 "nbformat": 4,
 "nbformat_minor": 5
}
