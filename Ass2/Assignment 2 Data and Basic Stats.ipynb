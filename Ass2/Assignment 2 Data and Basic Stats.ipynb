{
 "cells": [
  {
   "cell_type": "code",
   "execution_count": 1,
   "id": "8529e8b6",
   "metadata": {},
   "outputs": [],
   "source": [
    "import csv\n",
    "import json\n",
    "import pandas\n",
    "import urllib.request\n",
    "import re\n",
    "import networkx as nx\n",
    "import matplotlib.pyplot as plt\n",
    "import random\n",
    "from fa2 import ForceAtlas2\n",
    "import statistics\n",
    "import os"
   ]
  },
  {
   "cell_type": "markdown",
   "id": "14d4de19",
   "metadata": {},
   "source": [
    "# Data"
   ]
  },
  {
   "cell_type": "markdown",
   "id": "52002845",
   "metadata": {},
   "source": [
    "First we load the lists of superheros from the two following csv files."
   ]
  },
  {
   "cell_type": "code",
   "execution_count": 2,
   "id": "89f13ce9",
   "metadata": {},
   "outputs": [],
   "source": [
    "readerM = pandas.read_csv('marvel.csv')\n",
    "readerD = pandas.read_csv('dc.csv')"
   ]
  },
  {
   "cell_type": "markdown",
   "id": "8fae20ed",
   "metadata": {},
   "source": [
    "Then we create a list of all heroes with a wiki-link associated. We keep them in seperate lists, one for Marvel and one for DC."
   ]
  },
  {
   "cell_type": "code",
   "execution_count": 3,
   "id": "e86bd8f1",
   "metadata": {},
   "outputs": [],
   "source": [
    "lstM = []\n",
    "empty = 0\n",
    "for i in range(len(readerM)):\n",
    "    if pandas.isnull(readerM.iloc[i,2]) or \"Missing Link (comics)\" == readerM.iloc[i,2]:\n",
    "        empty = empty + 1\n",
    "    else:\n",
    "        \n",
    "        link = readerM.iloc[i,2].replace(' ','_')\n",
    "        lstM.append([readerM.iloc[i,2],link,\"text\"])"
   ]
  },
  {
   "cell_type": "code",
   "execution_count": 4,
   "id": "006e710a",
   "metadata": {},
   "outputs": [],
   "source": [
    "lstD = []\n",
    "empty = 0\n",
    "for i in range(len(readerD)):\n",
    "    if pandas.isnull(readerD.iloc[i,2]) or \"Missing Link (comics)\" == readerD.iloc[i,2]:\n",
    "        empty = empty + 1\n",
    "    else:\n",
    "        link = readerD.iloc[i,2].replace(' ','_')\n",
    "        lstD.append([readerD.iloc[i,2],link,\"text\"])"
   ]
  },
  {
   "cell_type": "markdown",
   "id": "d103f888",
   "metadata": {},
   "source": [
    "Now we want to download the Wikipedia text linked with every hero. To have a place to keep all this text locally, we create two seperate folders."
   ]
  },
  {
   "cell_type": "code",
   "execution_count": 5,
   "id": "8eba9264",
   "metadata": {},
   "outputs": [],
   "source": [
    "if not os.path.exists(os.getcwd() + '\\\\marvel'):\n",
    "    os.makedirs(os.getcwd() + '\\\\marvel')\n",
    "if not os.path.exists(os.getcwd() + '\\\\dc'):\n",
    "    os.makedirs(os.getcwd() + '\\\\dc')"
   ]
  },
  {
   "cell_type": "code",
   "execution_count": 6,
   "id": "fe12c458",
   "metadata": {},
   "outputs": [],
   "source": [
    "#as described at https://www.mediawiki.org/wiki/API:Tutorial\n",
    "baseurl = \"https://en.wikipedia.org/w/api.php?\"\n",
    "action = \"action=query\"\n",
    "content = \"prop=revisions&rvprop=content\"\n",
    "dataformat =\"format=json\""
   ]
  },
  {
   "cell_type": "markdown",
   "id": "1b1404b5",
   "metadata": {},
   "source": [
    "Looping through all heroes we make sure that no errors or ambiguity exist in the wiki-links. We then read the text into a new file locally, adding the name of the hero in the beginning of the file."
   ]
  },
  {
   "cell_type": "code",
   "execution_count": 7,
   "id": "92fb285a",
   "metadata": {
    "scrolled": true
   },
   "outputs": [],
   "source": [
    "for i in range(len(lstM)):\n",
    "    \n",
    "    if re.match(r\".*?(?=\\|)\",lstM[i][1]) is not None:\n",
    "        title = \"titles={}\".format(re.match(r\".*?(?=\\|)\",lstM[i][1]).group(0)) \n",
    "    elif re.match(r\".*?(?=\\#)\",lstM[i][1]) is not None:\n",
    "        title = \"titles={}\".format(re.match(r\".*?(?=\\#)\",lstM[i][1]).group(0))\n",
    "    elif re.match(r\".*?(?=\\/)\",lstM[i][1]) is not None:\n",
    "        #title = \"titles={}\".format(re.match(r\".*?(?=\\/)\",lstM[i][1]).group(0))\n",
    "        continue\n",
    "    else:\n",
    "        title = \"titles={}\".format(lstM[i][1])\n",
    "    \n",
    "    query = \"{}{}&{}&{}&{}\".format(baseurl, action, content, title, dataformat)\n",
    "    wikiresponse = urllib.request.urlopen(query)\n",
    "    wikidata = wikiresponse.read()\n",
    "    wikitext = wikidata.decode('utf-8')\n",
    "    f = open('marvel/' + title.strip('titles=').replace('\"','').replace(' ','').replace('/','') + '.txt', 'w')\n",
    "    f.write(\"[[[\" + lstM[i][0] + \"]]]\")\n",
    "    f.write(json.dumps(json.loads(wikitext)))\n",
    "    "
   ]
  },
  {
   "cell_type": "code",
   "execution_count": 8,
   "id": "294df1b3",
   "metadata": {},
   "outputs": [],
   "source": [
    "for i in range(len(lstD)):\n",
    "    \n",
    "    if re.match(r\".*?(?=\\|)\",lstD[i][1]) is not None:\n",
    "        title = \"titles={}\".format(re.match(r\".*?(?=\\|)\",lstD[i][1]).group(0)) \n",
    "    elif re.match(r\".*?(?=\\#)\",lstD[i][1]) is not None:\n",
    "        title = \"titles={}\".format(re.match(r\".*?(?=\\#)\",lstD[i][1]).group(0))\n",
    "    elif re.match(r\".*?(?=\\/)\",lstD[i][1]) is not None:\n",
    "        #title = \"titles={}\".format(re.match(r\".*?(?=\\/)\",lstM[i][1]).group(0))\n",
    "        continue\n",
    "    else:\n",
    "        title = \"titles={}\".format(lstD[i][1])\n",
    "    \n",
    "    query = \"{}{}&{}&{}&{}\".format(baseurl, action, content, title, dataformat)\n",
    "    wikiresponse = urllib.request.urlopen(query)\n",
    "    wikidata = wikiresponse.read()\n",
    "    wikitext = wikidata.decode('utf-8')\n",
    "    f = open('dc/' + title.strip('titles=').replace('\"','').replace(' ','').replace('/','') + '.txt', 'w')\n",
    "    f.write(\"[[[\" + lstD[i][0] + \"]]]\")\n",
    "    f.write(json.dumps(json.loads(wikitext)))"
   ]
  },
  {
   "cell_type": "markdown",
   "id": "f280f07d",
   "metadata": {},
   "source": [
    "With the data properly downloaded and saved we proceed to creating the network."
   ]
  },
  {
   "cell_type": "code",
   "execution_count": 7,
   "id": "86168363",
   "metadata": {},
   "outputs": [],
   "source": [
    "G = nx.DiGraph()\n",
    "linksM = []\n",
    "linksD = []"
   ]
  },
  {
   "cell_type": "markdown",
   "id": "44a8e101",
   "metadata": {},
   "source": [
    "The function 'search' will look for links to other heroes within the wiki text of a specific hero. For every link found it makes sure the hero linked to exists in our database. All confirmed links are returned."
   ]
  },
  {
   "cell_type": "code",
   "execution_count": 8,
   "id": "e04d9769",
   "metadata": {},
   "outputs": [],
   "source": [
    "def search(txt, lst):\n",
    "    links = []\n",
    "    matches = re.findall(r\"(?<=\\[\\[).*?(?=\\]\\])\", txt)\n",
    "    for match in matches:\n",
    "        for hero in lst:\n",
    "            if match == hero[0]:\n",
    "                links.append(hero[0])\n",
    "    return links"
   ]
  },
  {
   "cell_type": "markdown",
   "id": "f248111a",
   "metadata": {},
   "source": [
    "For every hero a node is created, search is called and all links found are added to the network."
   ]
  },
  {
   "cell_type": "code",
   "execution_count": 9,
   "id": "a9efebdc",
   "metadata": {},
   "outputs": [],
   "source": [
    "for hero in os.listdir(os.getcwd() + '\\\\marvel'):\n",
    "    \n",
    "    with open(os.path.join(os.getcwd() + '\\\\marvel', hero), 'r') as file:\n",
    "        txt = file.read()\n",
    "        hero_name = re.search(r\"(?<=\\[\\[\\[).*?(?=\\]\\]\\])\", txt)\n",
    "        if hero_name is None:\n",
    "            continue\n",
    "        \n",
    "        hero_name = hero_name.group(0)\n",
    "        \n",
    "        linksM = search(txt, lstM)\n",
    "        linksD = search(txt, lstD)\n",
    "        \n",
    "        G.add_node(hero_name, universe=\"marvel\")\n",
    "        for link in linksM:\n",
    "            G.add_node(link, universe=\"marvel\")\n",
    "            G.add_edge(hero_name, link)\n",
    "        for link in linksD:\n",
    "            G.add_node(link,universe=\"dc\")\n",
    "            G.add_edge(hero_name,link)\n",
    "        \n",
    "        file.close()"
   ]
  },
  {
   "cell_type": "code",
   "execution_count": 10,
   "id": "b6c7d5f8",
   "metadata": {},
   "outputs": [],
   "source": [
    "for hero in os.listdir(os.getcwd() + '\\\\dc'):\n",
    "    \n",
    "    with open(os.path.join(os.getcwd() + '\\\\dc', hero), 'r') as file:\n",
    "        txt = file.read()\n",
    "        hero_name = re.search(r\"(?<=\\[\\[\\[).*?(?=\\]\\]\\])\", txt)\n",
    "        if hero_name is None:\n",
    "            continue\n",
    "        \n",
    "        hero_name = hero_name.group(0)\n",
    "        \n",
    "        linksM = search(txt, lstM)\n",
    "        linksD = search(txt, lstD)\n",
    "        \n",
    "        G.add_node(hero_name, universe=\"dc\")\n",
    "        for link in linksM:\n",
    "            G.add_node(link, universe=\"marvel\")\n",
    "            G.add_edge(hero_name, link)\n",
    "        for link in linksD:\n",
    "            G.add_node(link, universe=\"dc\")\n",
    "            G.add_edge(hero_name,link)\n",
    "        \n",
    "        file.close()"
   ]
  },
  {
   "cell_type": "markdown",
   "id": "a194ea75",
   "metadata": {},
   "source": [
    "Now a few statistics can be calculated for the network."
   ]
  },
  {
   "cell_type": "code",
   "execution_count": 11,
   "id": "b209f0d0",
   "metadata": {
    "scrolled": false
   },
   "outputs": [
    {
     "name": "stdout",
     "output_type": "stream",
     "text": [
      "Statistics for all:\n",
      "\n",
      "Number of nodes: 2275\n",
      "Number of links: 11825\n",
      "\n",
      "The average in degree: 5.197802197802198\n",
      "The median in degree: 0\n",
      "The max in degree: 396\n",
      "The min in degree: 0\n",
      "\n",
      "The average out degree: 5.197802197802198\n",
      "The median out degree: 3\n",
      "The max out degree: 49\n",
      "The min out degree: 0\n",
      "\n"
     ]
    }
   ],
   "source": [
    "allIn = [G.in_degree(x) for x,y in G.nodes(data=True)]\n",
    "avgIn = statistics.mean(allIn)\n",
    "medianIn = statistics.median(allIn)\n",
    "maxIn = max(allIn)\n",
    "minIn = min(allIn)\n",
    "\n",
    "allOut = [G.out_degree(x) for x,y in G.nodes(data=True)]\n",
    "avgOut = statistics.mean(allOut)\n",
    "medianOut = statistics.median(allOut)\n",
    "maxOut = max(allOut)\n",
    "minOut = min(allOut)\n",
    "\n",
    "print('Statistics for all:\\n')\n",
    "\n",
    "print('Number of nodes: {}'.format(len(G.nodes)))\n",
    "print('Number of links: {}\\n'.format(len(G.edges)))\n",
    "\n",
    "print('The average in degree: {}'.format(avgIn))\n",
    "print('The median in degree: {}'.format(medianIn))\n",
    "print('The max in degree: {}'.format(maxIn))\n",
    "print('The min in degree: {}\\n'.format(minIn))\n",
    "\n",
    "print('The average out degree: {}'.format(avgOut))\n",
    "print('The median out degree: {}'.format(medianOut))\n",
    "print('The max out degree: {}'.format(maxOut))\n",
    "print('The min out degree: {}\\n'.format(minOut))"
   ]
  },
  {
   "cell_type": "markdown",
   "id": "47e90a37",
   "metadata": {},
   "source": [
    "It is worth noticing that the average out degree seems pretty high compared to the median. At least half of the heroes have no incoming links while a few extremes have a lot of incoming links.\n",
    "\n",
    "Average in and out degree are the same value because all edges are counted once in both categories.\n",
    "\n",
    "Most heroes link to another hero, as indicated by the median of 3. While the max out degree is pretty high, it is still relatively low compared to the max in degree, meaning that a lot of heroes link to the same few heroes."
   ]
  },
  {
   "cell_type": "code",
   "execution_count": 14,
   "id": "c4c51408",
   "metadata": {},
   "outputs": [
    {
     "data": {
      "image/png": "[encoded data removed]",
      "text/plain": [
       "<Figure size 432x288 with 1 Axes>"
      ]
     },
     "metadata": {
      "needs_background": "light"
     },
     "output_type": "display_data"
    }
   ],
   "source": [
    "degrees = [G.out_degree(n) for n in G.nodes()]\n",
    "plt.hist(degrees, edgecolor='black', alpha=0.5,align='right', bins=range(0,50), label='super heroes')\n",
    "plt.legend(loc='upper right')\n",
    "plt.title('Out degree')\n",
    "plt.show()"
   ]
  },
  {
   "cell_type": "code",
   "execution_count": 21,
   "id": "6d8396f3",
   "metadata": {},
   "outputs": [
    {
     "data": {
      "image/png": "[encoded data removed]",
      "text/plain": [
       "<Figure size 432x288 with 1 Axes>"
      ]
     },
     "metadata": {
      "needs_background": "light"
     },
     "output_type": "display_data"
    }
   ],
   "source": [
    "degrees = [G.in_degree(n) for n in G.nodes()]\n",
    "\n",
    "plt.hist(degrees, edgecolor='black', alpha=0.5,align='left', bins=range(0,50), label='super heroes')\n",
    "plt.legend(loc='upper right')\n",
    "plt.title('In degree')\n",
    "plt.show()"
   ]
  },
  {
   "cell_type": "code",
   "execution_count": 22,
   "id": "a1a714f0",
   "metadata": {},
   "outputs": [],
   "source": [
    "Gsub = max(nx.weakly_connected_components(G))\n",
    "Gsub = nx.subgraph(G, Gsub)"
   ]
  },
  {
   "cell_type": "code",
   "execution_count": 23,
   "id": "a2003a32",
   "metadata": {},
   "outputs": [],
   "source": [
    "Gsubud = Gsub.to_undirected()"
   ]
  },
  {
   "cell_type": "code",
   "execution_count": 24,
   "id": "d419891a",
   "metadata": {},
   "outputs": [
    {
     "name": "stdout",
     "output_type": "stream",
     "text": [
      "Top 3 degree:\n",
      "Spider-Man: 416\n",
      "Batman: 243\n",
      "Superman: 243\n"
     ]
    }
   ],
   "source": [
    "def sortDegree(e):\n",
    "  return e['degree']\n",
    "\n",
    "degree = []\n",
    "\n",
    "for node in G.nodes:\n",
    "    degree.append({'name':node,'degree':G.degree(node)})\n",
    "        \n",
    "#sort according to in degree\n",
    "degree.sort(key=sortDegree)\n",
    "\n",
    "print(\"Top 3 degree:\")\n",
    "for i in range(-1, -4, -1):\n",
    "    print(\"{}: {}\".format(degree[i]['name'],degree[i]['degree']))"
   ]
  },
  {
   "cell_type": "code",
   "execution_count": 25,
   "id": "1f3ed640",
   "metadata": {},
   "outputs": [],
   "source": [
    "defined_colors = []\n",
    "defined_sizes = []\n",
    "\n",
    "red = \"#A83432\"\n",
    "blue = \"#323EA8\"\n",
    "\n",
    "gold = \"#FFD700\"\n",
    "#silver = \"#C0C0C0\"\n",
    "#bronze = \"#CD7F32\"\n",
    "\n",
    "black = \"#000000\"\n",
    "\n",
    "for node in Gsubud:\n",
    "    defined_sizes.append(Gsubud.degree(node)**1.8)\n",
    "    if node == 'Spider-Man' or node == 'Superman' or node == 'Batman':\n",
    "        defined_colors.append(gold)\n",
    "    elif Gsubud.nodes[node]['universe'] == 'marvel':\n",
    "        defined_colors.append(red)\n",
    "    elif Gsubud.nodes[node]['universe'] == 'dc':\n",
    "        defined_colors.append(blue)"
   ]
  },
  {
   "cell_type": "code",
   "execution_count": 26,
   "id": "e9d8da38",
   "metadata": {},
   "outputs": [],
   "source": [
    "defined_link_colors = []\n",
    "defined_link_sizes = []\n",
    "\n",
    "for link in Gsubud.edges:\n",
    "    if 'Spider-Man' in link or 'Superman' in link or 'Batman' in link:\n",
    "        defined_link_colors.append(gold)\n",
    "        defined_link_sizes.append(10)\n",
    "    else:\n",
    "        defined_link_colors.append(black)\n",
    "        defined_link_sizes.append(1)"
   ]
  },
  {
   "cell_type": "code",
   "execution_count": 27,
   "id": "1deab3a9",
   "metadata": {},
   "outputs": [],
   "source": [
    "forceatlas2 = ForceAtlas2(gravity = 10.0)"
   ]
  },
  {
   "cell_type": "code",
   "execution_count": null,
   "id": "3f580b38",
   "metadata": {
    "scrolled": true
   },
   "outputs": [
    {
     "name": "stderr",
     "output_type": "stream",
     "text": [
      "  5%|████▎                                                                          | 108/2000 [00:05<01:35, 19.73it/s]"
     ]
    }
   ],
   "source": [
    "positions = forceatlas2.forceatlas2_networkx_layout(Gsubud, pos=None, iterations=2000)"
   ]
  },
  {
   "cell_type": "code",
   "execution_count": null,
   "id": "2ef025bc",
   "metadata": {
    "scrolled": true
   },
   "outputs": [],
   "source": [
    "fig = plt.figure(1, figsize=(200, 100), dpi=60)\n",
    "nx.draw_networkx_nodes(Gsubud, positions, node_size = defined_sizes, alpha=1, node_color = defined_colors)\n",
    "nx.draw_networkx_edges(Gsubud, positions, width = defined_link_sizes, alpha=0.5, edge_color = defined_link_colors)"
   ]
  },
  {
   "cell_type": "code",
   "execution_count": null,
   "id": "46b66cdd",
   "metadata": {},
   "outputs": [],
   "source": []
  }
 ],
 "metadata": {
  "kernelspec": {
   "display_name": "Python 3",
   "language": "python",
   "name": "python3"
  },
  "language_info": {
   "codemirror_mode": {
    "name": "ipython",
    "version": 3
   },
   "file_extension": ".py",
   "mimetype": "text/x-python",
   "name": "python",
   "nbconvert_exporter": "python",
   "pygments_lexer": "ipython3",
   "version": "3.8.8"
  }
 },
 "nbformat": 4,
 "nbformat_minor": 5
}
