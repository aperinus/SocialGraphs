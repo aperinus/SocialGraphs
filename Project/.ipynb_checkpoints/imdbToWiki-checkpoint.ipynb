{
 "cells": [
  {
   "cell_type": "code",
   "execution_count": 73,
   "id": "f524e042",
   "metadata": {},
   "outputs": [],
   "source": [
    "import urllib.request\n",
    "import re"
   ]
  },
  {
   "cell_type": "code",
   "execution_count": 74,
   "id": "9813de76",
   "metadata": {},
   "outputs": [],
   "source": [
    "import requests\n",
    "\n",
    "imdbId = str(113228)\n",
    "while len(imdbId)<7:\n",
    "    imdbId = str(0) + imdbId  \n",
    "\n",
    "url = 'https://query.wikidata.org/sparql'\n",
    "query = '''\n",
    "SELECT ?wppage WHERE {                                                          \n",
    "?subject wdt:P345 'tt''' + imdbId + '''' .                                                   \n",
    "  ?wppage schema:about ?subject .                                               \n",
    "  FILTER(contains(str(?wppage),'//en.wikipedia'))                               \n",
    "}\n",
    "'''\n",
    "\n",
    "r = requests.get(url, params = {'format': 'json', 'query': query})\n",
    "data = r.json()\n",
    "weblink = data['results']['bindings'][0]['wppage']['value']"
   ]
  },
  {
   "cell_type": "code",
   "execution_count": 75,
   "id": "acd9c8ce",
   "metadata": {},
   "outputs": [],
   "source": [
    "wikilink = ''\n",
    "\n",
    "regex = re.compile(r\".+\\/(.+)\")\n",
    "wikimatch = re.search(regex, weblink)\n",
    "\n",
    "if wikimatch is not None:\n",
    "    wikilink = wikimatch.group(1)"
   ]
  },
  {
   "cell_type": "code",
   "execution_count": 76,
   "id": "c8389828",
   "metadata": {},
   "outputs": [],
   "source": [
    "#as described at https://www.mediawiki.org/wiki/API:Tutorial\n",
    "baseurl = \"https://en.wikipedia.org/w/api.php?\"\n",
    "action = \"action=query\"\n",
    "content = \"prop=revisions&rvprop=content\"\n",
    "dataformat =\"format=json\""
   ]
  },
  {
   "cell_type": "code",
   "execution_count": 77,
   "id": "17d784c9",
   "metadata": {},
   "outputs": [],
   "source": [
    "title = \"titles={}\".format(wikilink)\n",
    "query = \"{}{}&{}&{}&{}\".format(baseurl, action, content, title, dataformat)\n",
    "wikiresponse = urllib.request.urlopen(query)\n",
    "wikidata = wikiresponse.read()\n",
    "wikitext = wikidata.decode('utf-8')"
   ]
  },
  {
   "cell_type": "code",
   "execution_count": null,
   "id": "1d4ea3f8",
   "metadata": {},
   "outputs": [],
   "source": []
  }
 ],
 "metadata": {
  "kernelspec": {
   "display_name": "Python 3",
   "language": "python",
   "name": "python3"
  },
  "language_info": {
   "codemirror_mode": {
    "name": "ipython",
    "version": 3
   },
   "file_extension": ".py",
   "mimetype": "text/x-python",
   "name": "python",
   "nbconvert_exporter": "python",
   "pygments_lexer": "ipython3",
   "version": "3.8.8"
  }
 },
 "nbformat": 4,
 "nbformat_minor": 5
}
