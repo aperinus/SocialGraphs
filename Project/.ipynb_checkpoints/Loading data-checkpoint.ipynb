{
 "cells": [
  {
   "cell_type": "code",
   "execution_count": 1,
   "id": "f44dd45d",
   "metadata": {},
   "outputs": [],
   "source": [
    "import urllib.request\n",
    "import re\n",
    "import requests\n",
    "import pandas as pd\n",
    "import networkx as nx\n",
    "import matplotlib.pyplot as plt\n",
    "import numpy as np"
   ]
  },
  {
   "cell_type": "code",
   "execution_count": 2,
   "id": "30003a99",
   "metadata": {},
   "outputs": [],
   "source": [
    "def imdbId_to_wikiLink(imdbId):\n",
    "\n",
    "    imdbId = str(113228)\n",
    "    while len(imdbId)<7:\n",
    "        imdbId = str(0) + imdbId  \n",
    "\n",
    "    url = 'https://query.wikidata.org/sparql'\n",
    "    query = '''\n",
    "    SELECT ?wppage WHERE {                                                          \n",
    "    ?subject wdt:P345 'tt''' + imdbId + '''' .                                                   \n",
    "      ?wppage schema:about ?subject .                                               \n",
    "      FILTER(contains(str(?wppage),'//en.wikipedia'))                               \n",
    "    }\n",
    "    '''\n",
    "\n",
    "    r = requests.get(url, params = {'format': 'json', 'query': query})\n",
    "    data = r.json()\n",
    "    weblink = data['results']['bindings'][0]['wppage']['value']\n",
    "    \n",
    "    wikilink = ''\n",
    "    \n",
    "    #match the last /wikilink part of url\n",
    "    regex = re.compile(r\".+\\/(.+)\")\n",
    "    wikimatch = re.search(regex, weblink)\n",
    "    \n",
    "    if wikimatch is not None:\n",
    "        wikilink = wikimatch.group(1)\n",
    "    \n",
    "    return wikilink"
   ]
  },
  {
   "cell_type": "code",
   "execution_count": 3,
   "id": "8e3b8284",
   "metadata": {},
   "outputs": [],
   "source": [
    "def wikiLink_to_wikiText(wikiLink):\n",
    "\n",
    "    #as described at https://www.mediawiki.org/wiki/API:Tutorial\n",
    "    baseurl = \"https://en.wikipedia.org/w/api.php?\"\n",
    "    action = \"action=query\"\n",
    "    content = \"prop=revisions&rvprop=content\"\n",
    "    dataformat =\"format=json\"\n",
    "    \n",
    "    title = \"titles={}\".format(wikilink)\n",
    "    query = \"{}{}&{}&{}&{}\".format(baseurl, action, content, title, dataformat)\n",
    "    wikiresponse = urllib.request.urlopen(query)\n",
    "    wikidata = wikiresponse.read()\n",
    "    wikitext = wikidata.decode('utf-8')\n",
    "    \n",
    "    return wikitext"
   ]
  },
  {
   "cell_type": "code",
   "execution_count": 4,
   "id": "ad07bc17",
   "metadata": {},
   "outputs": [],
   "source": [
    "def genre_in_common(movie1, movie2):\n",
    "    \n",
    "    #define the to list of genres\n",
    "    G1 = G.nodes[movie1]['genres']\n",
    "    G2 = G.nodes[movie2]['genres']\n",
    "    \n",
    "    #make list of genres in common\n",
    "    common = [i for i in G1 if i in G2]\n",
    "    \n",
    "    if (len(common)>0):\n",
    "        return True\n",
    "    return False"
   ]
  },
  {
   "cell_type": "code",
   "execution_count": 5,
   "id": "3370fba2",
   "metadata": {},
   "outputs": [],
   "source": [
    "def suggestMovie(movieId):\n",
    "    \n",
    "    #used to keep track of strongest link to other movie\n",
    "    max_weight = 0\n",
    "    \n",
    "    for edge in G.edges(movieId):\n",
    "        \n",
    "        #if link is the strongest we've seen, then save it\n",
    "        if G[edge[0]][edge[1]]['weight'] > max_weight:\n",
    "            max_weight = G[edge[0]][edge[1]]['weight']\n",
    "            recommended_edge = edge\n",
    "    \n",
    "    #return the recommended movie from the strongest link\n",
    "    if recommended_edge[0] != movieId:\n",
    "        recommended_movie = recommended_edge[0]\n",
    "    else:\n",
    "        recommended_movie = recommended_edge[1]\n",
    "        \n",
    "    return G.nodes[recommended_movie]['title']  "
   ]
  },
  {
   "cell_type": "code",
   "execution_count": 6,
   "id": "7ba05745",
   "metadata": {},
   "outputs": [],
   "source": [
    "def get_yearly_avg(year):\n",
    "    \n",
    "    #used to calculate average\n",
    "    count = 0\n",
    "    sum = 0\n",
    "    \n",
    "    for movie in G.nodes:\n",
    "        \n",
    "        #match numbers in ()\n",
    "        match = re.search(r\"\\(([0-9]*?)\\)\", G.nodes[movie]['title'])\n",
    "        \n",
    "        if (match is not None):\n",
    "            \n",
    "            #if movie is from year, update count and sum\n",
    "            if (int(match.group(1)) == year):\n",
    "                count += 1\n",
    "                sum += G.nodes[movie]['avg_rating']\n",
    "                \n",
    "    if (count == 0):\n",
    "        return 0\n",
    "    return (sum/count)"
   ]
  },
  {
   "cell_type": "code",
   "execution_count": 7,
   "id": "823e5dea",
   "metadata": {},
   "outputs": [],
   "source": [
    "readerLinks = pd.read_csv('links.csv')\n",
    "readerMovies = pd.read_csv('movies.csv')\n",
    "readerRatings = pd.read_csv('ratings.csv')"
   ]
  },
  {
   "cell_type": "code",
   "execution_count": 8,
   "id": "1ce66dcb",
   "metadata": {},
   "outputs": [],
   "source": [
    "links = []\n",
    "for i in range(len(readerLinks)):\n",
    "\n",
    "    movieId = readerLinks.iloc[i,0]\n",
    "    imdbId = readerLinks.iloc[i,1]\n",
    "    \n",
    "    links.append([movieId, imdbId])"
   ]
  },
  {
   "cell_type": "code",
   "execution_count": 9,
   "id": "ff0176f3",
   "metadata": {},
   "outputs": [],
   "source": [
    "movies = []\n",
    "for i in range(len(readerMovies)):\n",
    "\n",
    "    movieId = readerMovies.iloc[i,0]\n",
    "    titel = readerMovies.iloc[i,1]\n",
    "    genres = readerMovies.iloc[i,2]\n",
    "    \n",
    "    movies.append([movieId, titel, genres])"
   ]
  },
  {
   "cell_type": "code",
   "execution_count": 10,
   "id": "1c6e3657",
   "metadata": {},
   "outputs": [],
   "source": [
    "ratings = []\n",
    "for i in range(len(readerRatings)):\n",
    "\n",
    "    userId = readerRatings.iloc[i,0]\n",
    "    movieId = readerRatings.iloc[i,1]\n",
    "    rating = readerRatings.iloc[i,2]\n",
    "    \n",
    "    ratings.append([userId, movieId, rating])"
   ]
  },
  {
   "cell_type": "code",
   "execution_count": 11,
   "id": "4e57131b",
   "metadata": {},
   "outputs": [],
   "source": [
    "G = nx.Graph()"
   ]
  },
  {
   "cell_type": "code",
   "execution_count": 12,
   "id": "e37add2e",
   "metadata": {},
   "outputs": [],
   "source": [
    "for movie in movies:\n",
    "    \n",
    "    #make list of genres from string of genres\n",
    "    genres = re.findall(r\"([^|]+)\",movie[2])\n",
    "    \n",
    "    G.add_node(movie[0], title=movie[1], avg_rating=0, rating_count=0, genres=genres,)"
   ]
  },
  {
   "cell_type": "code",
   "execution_count": null,
   "id": "39517233",
   "metadata": {},
   "outputs": [],
   "source": [
    "#users love everything rated 4 or higher\n",
    "limit_for_love = 4\n",
    "\n",
    "#for every movie loved by user, make a link/increase weight of existing link, to movies also loved by user\n",
    "for i in range(len(ratings)):\n",
    "    \n",
    "    #defining movie\n",
    "    movie = ratings[i][1]\n",
    "    \n",
    "    #update average rating of movie\n",
    "    G.nodes[movie]['rating_count'] += 1\n",
    "    G.nodes[movie]['avg_rating'] = (G.nodes[movie]['avg_rating'] + ratings[i][2])/G.nodes[movie]['rating_count']\n",
    "    \n",
    "    #if user doesnt love movie dont bother linking to it\n",
    "    if (ratings[i][2] < limit_for_love):\n",
    "        continue\n",
    "    \n",
    "    #increase index to avoid linking to itself\n",
    "    j = i+1\n",
    "    \n",
    "    #avoid out of range\n",
    "    if(j < len(ratings)):\n",
    "        \n",
    "        #look at all other ratings made by same user\n",
    "        while (ratings[j][0] == ratings[i][0]):\n",
    "            \n",
    "            second_movie = ratings[j][1]\n",
    "            \n",
    "            #if the user loves second_movie and the two movies share a genre, add an edge between them or increase weight of existing\n",
    "            if (ratings[j][2] >= limit_for_love and genre_in_common(movie, second_movie)):\n",
    "                if (G.has_edge(movie, second_movie)):\n",
    "                    G[movie][second_movie]['weight'] += 1 #increase weight on existing edge\n",
    "                else:\n",
    "                    G.add_edge(movie, ratings[j][1], weight=1) #or create new edge\n",
    "            j+=1\n",
    "            if (j>=len(ratings)):\n",
    "                break"
   ]
  },
  {
   "cell_type": "code",
   "execution_count": 16,
   "id": "53122c65",
   "metadata": {},
   "outputs": [
    {
     "data": {
      "text/plain": [
       "9742"
      ]
     },
     "execution_count": 16,
     "metadata": {},
     "output_type": "execute_result"
    }
   ],
   "source": [
    "len(G.nodes)"
   ]
  },
  {
   "cell_type": "code",
   "execution_count": 17,
   "id": "686e01b3",
   "metadata": {},
   "outputs": [
    {
     "data": {
      "text/plain": [
       "1664844"
      ]
     },
     "execution_count": 17,
     "metadata": {},
     "output_type": "execute_result"
    }
   ],
   "source": [
    "len(G.edges)"
   ]
  },
  {
   "cell_type": "code",
   "execution_count": 26,
   "id": "282f32da",
   "metadata": {},
   "outputs": [
    {
     "data": {
      "image/png": "[encoded data removed]",
      "text/plain": [
       "<Figure size 432x288 with 1 Axes>"
      ]
     },
     "metadata": {
      "needs_background": "light"
     },
     "output_type": "display_data"
    }
   ],
   "source": [
    "degrees = [G.degree(n) for n in G.nodes()]\n",
    "\n",
    "hist = plt.hist(degrees, edgecolor='blue', alpha=0.5,align='right', bins=range(0,max(degrees)), label='movies')\n",
    "\n",
    "plt.legend(loc='upper right')\n",
    "plt.title('Degree')\n",
    "plt.xlabel(\"Degree\")\n",
    "plt.ylabel(\"Frequency\")\n",
    "\n",
    "plt.show()"
   ]
  },
  {
   "cell_type": "code",
   "execution_count": 19,
   "id": "a554bfb0",
   "metadata": {},
   "outputs": [
    {
     "data": {
      "image/png": "[encoded data removed]",
      "text/plain": [
       "<Figure size 432x288 with 1 Axes>"
      ]
     },
     "metadata": {
      "needs_background": "light"
     },
     "output_type": "display_data"
    }
   ],
   "source": [
    "x = []\n",
    "y = []\n",
    "\n",
    "for i in range(1915,2019):\n",
    "    y.append(get_yearly_avg(i))\n",
    "    x.append(i)\n",
    "  \n",
    "plt.plot(x, y)\n",
    "  \n",
    "plt.xlabel('year')\n",
    "plt.ylabel('average rating')\n",
    "  \n",
    "plt.title('Yearly average movie ratings')\n",
    "  \n",
    "plt.show()"
   ]
  },
  {
   "cell_type": "code",
   "execution_count": 34,
   "id": "0e5a7e78",
   "metadata": {},
   "outputs": [
    {
     "data": {
      "text/plain": [
       "'Heat (1995)'"
      ]
     },
     "execution_count": 34,
     "metadata": {},
     "output_type": "execute_result"
    }
   ],
   "source": [
    "#try out suggestMovie:\n",
    "#Indiana Jones and the Raiders of the Lost Ark (id = 1198)\n",
    "#Toy Story (id = 1)\n",
    "#Harry Potter and the Sorcerer's Stone (id = 4896)\n",
    "#Avatar (id = 72998)\n",
    "#Sinister (id = 97188)\n",
    "\n",
    "suggestMovie(97188)"
   ]
  },
  {
   "cell_type": "code",
   "execution_count": null,
   "id": "a7362ece",
   "metadata": {},
   "outputs": [],
   "source": []
  }
 ],
 "metadata": {
  "kernelspec": {
   "display_name": "Python 3",
   "language": "python",
   "name": "python3"
  },
  "language_info": {
   "codemirror_mode": {
    "name": "ipython",
    "version": 3
   },
   "file_extension": ".py",
   "mimetype": "text/x-python",
   "name": "python",
   "nbconvert_exporter": "python",
   "pygments_lexer": "ipython3",
   "version": "3.8.8"
  }
 },
 "nbformat": 4,
 "nbformat_minor": 5
}
