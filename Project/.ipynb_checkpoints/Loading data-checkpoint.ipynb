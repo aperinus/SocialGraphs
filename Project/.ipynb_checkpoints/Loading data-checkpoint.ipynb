{
 "cells": [
  {
   "cell_type": "code",
   "execution_count": 1,
   "id": "7a5b602c",
   "metadata": {},
   "outputs": [],
   "source": [
    "import urllib.request\n",
    "import re\n",
    "import requests"
   ]
  },
  {
   "cell_type": "code",
   "execution_count": 7,
   "id": "e7adf913",
   "metadata": {},
   "outputs": [],
   "source": [
    "def imdbId_to_wikiLink(imdbId):\n",
    "\n",
    "    imdbId = str(113228)\n",
    "    while len(imdbId)<7:\n",
    "        imdbId = str(0) + imdbId  \n",
    "\n",
    "    url = 'https://query.wikidata.org/sparql'\n",
    "    query = '''\n",
    "    SELECT ?wppage WHERE {                                                          \n",
    "    ?subject wdt:P345 'tt''' + imdbId + '''' .                                                   \n",
    "      ?wppage schema:about ?subject .                                               \n",
    "      FILTER(contains(str(?wppage),'//en.wikipedia'))                               \n",
    "    }\n",
    "    '''\n",
    "\n",
    "    r = requests.get(url, params = {'format': 'json', 'query': query})\n",
    "    data = r.json()\n",
    "    weblink = data['results']['bindings'][0]['wppage']['value']\n",
    "    \n",
    "    wikilink = ''\n",
    "    \n",
    "    regex = re.compile(r\".+\\/(.+)\")\n",
    "    wikimatch = re.search(regex, weblink)\n",
    "    \n",
    "    if wikimatch is not None:\n",
    "        wikilink = wikimatch.group(1)\n",
    "    \n",
    "    return wikilink"
   ]
  },
  {
   "cell_type": "code",
   "execution_count": 9,
   "id": "506127c7",
   "metadata": {},
   "outputs": [],
   "source": [
    "def wikiLink_to_wikiText(wikiLink):\n",
    "\n",
    "    #as described at https://www.mediawiki.org/wiki/API:Tutorial\n",
    "    baseurl = \"https://en.wikipedia.org/w/api.php?\"\n",
    "    action = \"action=query\"\n",
    "    content = \"prop=revisions&rvprop=content\"\n",
    "    dataformat =\"format=json\"\n",
    "    \n",
    "    title = \"titles={}\".format(wikilink)\n",
    "    query = \"{}{}&{}&{}&{}\".format(baseurl, action, content, title, dataformat)\n",
    "    wikiresponse = urllib.request.urlopen(query)\n",
    "    wikidata = wikiresponse.read()\n",
    "    wikitext = wikidata.decode('utf-8')\n",
    "    \n",
    "    return wikitext"
   ]
  },
  {
   "cell_type": "code",
   "execution_count": null,
   "id": "3c376a9e",
   "metadata": {},
   "outputs": [],
   "source": [
    "readerM = pd.read_csv('marvel.csv')"
   ]
  }
 ],
 "metadata": {
  "kernelspec": {
   "display_name": "Python 3",
   "language": "python",
   "name": "python3"
  },
  "language_info": {
   "codemirror_mode": {
    "name": "ipython",
    "version": 3
   },
   "file_extension": ".py",
   "mimetype": "text/x-python",
   "name": "python",
   "nbconvert_exporter": "python",
   "pygments_lexer": "ipython3",
   "version": "3.8.8"
  }
 },
 "nbformat": 4,
 "nbformat_minor": 5
}
