{
 "cells": [
  {
   "cell_type": "code",
   "execution_count": 4,
   "id": "56222016",
   "metadata": {},
   "outputs": [],
   "source": [
    "import numpy as np\n",
    "import pandas as pd\n",
    "import random\n",
    "import networkx as nx\n",
    "import matplotlib.pyplot as plt"
   ]
  },
  {
   "cell_type": "markdown",
   "id": "90e62f2e",
   "metadata": {},
   "source": [
    "# Part 1: Binning degree distributions"
   ]
  },
  {
   "cell_type": "markdown",
   "id": "d534d768",
   "metadata": {},
   "source": [
    "A. Binning real numbers\n",
    "\n",
    "Let's do a gentle start and use the random library generate 5000 data points from a Gaussian distribution."
   ]
  },
  {
   "cell_type": "code",
   "execution_count": 5,
   "id": "495fc3fc",
   "metadata": {},
   "outputs": [],
   "source": [
    "x = np.random.normal(loc=2, scale=0.125, size=5000)"
   ]
  },
  {
   "cell_type": "markdown",
   "id": "0ca2db67",
   "metadata": {},
   "source": [
    "Now, let's use numpy.histogram to bin those number into 10 bins. What does the numpy.histogram function return? Do the two arrays have the same length?"
   ]
  },
  {
   "cell_type": "code",
   "execution_count": 7,
   "id": "97592105",
   "metadata": {},
   "outputs": [],
   "source": [
    "bins = 10\n",
    "ranged = None\n",
    "normed = None\n",
    "weights = None\n",
    "density = None\n",
    "hist = np.histogram(x, bins, ranged, normed, weights, density)"
   ]
  },
  {
   "cell_type": "code",
   "execution_count": 8,
   "id": "2de0e5b7",
   "metadata": {},
   "outputs": [
    {
     "data": {
      "text/plain": [
       "(array([  16,  113,  351,  926, 1356, 1259,  674,  251,   47,    7],\n",
       "       dtype=int64),\n",
       " array([1.58016075, 1.66771843, 1.75527611, 1.84283379, 1.93039147,\n",
       "        2.01794915, 2.10550683, 2.19306451, 2.28062219, 2.36817988,\n",
       "        2.45573756]))"
      ]
     },
     "execution_count": 8,
     "metadata": {},
     "output_type": "execute_result"
    }
   ],
   "source": [
    "hist"
   ]
  },
  {
   "cell_type": "markdown",
   "id": "9916ad65",
   "metadata": {},
   "source": [
    "It produces two arrays, one with limit of bins and one with the amount of data points in each bin.\n",
    "<br>The array of data points has a length of 10 while the array of bin limits has a length of 11. This is because it takes two bin limits to form one bin, but the two outer limits are only used once. Because of this, we simply remove the top limit."
   ]
  },
  {
   "cell_type": "code",
   "execution_count": 9,
   "id": "1ae020ba",
   "metadata": {},
   "outputs": [],
   "source": [
    "alteredY = []\n",
    "for i in hist[0]:\n",
    "    alteredY.append(i)\n",
    "    alteredY.append(i)"
   ]
  },
  {
   "cell_type": "code",
   "execution_count": 10,
   "id": "cbb3030e",
   "metadata": {},
   "outputs": [],
   "source": [
    "alteredX = []\n",
    "alteredX.append(hist[1][0])\n",
    "for i in hist[1][1:-1]:\n",
    "    alteredX.append(i)\n",
    "    alteredX.append(i)\n",
    "alteredX.append(hist[1][-1])"
   ]
  },
  {
   "cell_type": "code",
   "execution_count": 13,
   "id": "fb49044a",
   "metadata": {},
   "outputs": [
    {
     "data": {
      "text/plain": [
       "[<matplotlib.lines.Line2D at 0x298b014b880>]"
      ]
     },
     "execution_count": 13,
     "metadata": {},
     "output_type": "execute_result"
    },
    {
     "data": {
      "image/png": "[encoded data removed]",
      "text/plain": [
       "<Figure size 432x288 with 1 Axes>"
      ]
     },
     "metadata": {
      "needs_background": "light"
     },
     "output_type": "display_data"
    }
   ],
   "source": [
    "plt.plot(alteredX,alteredY)"
   ]
  },
  {
   "cell_type": "code",
   "execution_count": null,
   "id": "397c76ca",
   "metadata": {},
   "outputs": [],
   "source": []
  }
 ],
 "metadata": {
  "kernelspec": {
   "display_name": "Python 3",
   "language": "python",
   "name": "python3"
  },
  "language_info": {
   "codemirror_mode": {
    "name": "ipython",
    "version": 3
   },
   "file_extension": ".py",
   "mimetype": "text/x-python",
   "name": "python",
   "nbconvert_exporter": "python",
   "pygments_lexer": "ipython3",
   "version": "3.8.8"
  }
 },
 "nbformat": 4,
 "nbformat_minor": 5
}
