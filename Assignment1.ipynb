{
 "cells": [
  {
   "cell_type": "code",
   "execution_count": 5,
   "id": "56222016",
   "metadata": {},
   "outputs": [],
   "source": [
    "import numpy as np\n",
    "import pandas as pd\n",
    "import random\n",
    "from random import choice\n",
    "import math \n",
    "import networkx as nx\n",
    "import matplotlib.pyplot as plt\n",
    "from tkinter import Grid"
   ]
  },
  {
   "cell_type": "markdown",
   "id": "90e62f2e",
   "metadata": {},
   "source": [
    "# Part 1: Binning degree distributions"
   ]
  },
  {
   "cell_type": "markdown",
   "id": "d534d768",
   "metadata": {},
   "source": [
    "A. Binning real numbers\n",
    "\n",
    "Using random library to generate 5000 data points from a Gaussian distribution."
   ]
  },
  {
   "cell_type": "code",
   "execution_count": 5,
   "id": "495fc3fc",
   "metadata": {},
   "outputs": [],
   "source": [
    "x = np.random.normal(loc=2, scale=0.125, size=5000)"
   ]
  },
  {
   "cell_type": "markdown",
   "id": "0ca2db67",
   "metadata": {},
   "source": [
    "Using numpy.histogram to bin those number into 10 bins. "
   ]
  },
  {
   "cell_type": "code",
   "execution_count": 6,
   "id": "97592105",
   "metadata": {},
   "outputs": [],
   "source": [
    "bins = 10 # define number of bins \n",
    "ranged = None\n",
    "normed = None\n",
    "weights = None\n",
    "density = None\n",
    "\n",
    "hist = np.histogram(x, bins, ranged, normed, weights, density) # Constructs a hist with number of bins \n",
    "print(hist)"
   ]
  },
  {
   "cell_type": "markdown",
   "id": "9916ad65",
   "metadata": {},
   "source": [
    "The 'numpy.histogram' produces two arrays, one with limit of bins and one with the amount of data points in each bin.\n",
    "<br> The array of data points has a length of 10 while the array of bin limits has a length of 11. This is because it takes two bin limits to form one bin, but the two outer limits are only used once. Because of this, we simply remove the top limit."
   ]
  },
  {
   "cell_type": "code",
   "execution_count": null,
   "id": "1ae020ba",
   "metadata": {},
   "outputs": [],
   "source": [
    "alteredY = [] # We create a new list for the y-coordinate for our line plot \n",
    "for i in hist[0]:\n",
    "    alteredY.append(i) \n",
    "    alteredY.append(i) #  the list contains a duplicate of each occurency in order to \n",
    "                       #  plot the bin limits paired with the occurency of data points "
   ]
  },
  {
   "cell_type": "code",
   "execution_count": 9,
   "id": "cbb3030e",
   "metadata": {},
   "outputs": [],
   "source": [
    "alteredX = [] # We create a new list for the x-coordinate (bin limits) for our line plot\n",
    "\n",
    "alteredX.append(hist[1][0])\n",
    "for i in hist[1][1:-1]:  \n",
    "    alteredX.append(i) # create duplicate for each value in binlimits except the two outer-limit values \n",
    "    alteredX.append(i)\n",
    "alteredX.append(hist[1][-1])"
   ]
  },
  {
   "cell_type": "code",
   "execution_count": 10,
   "id": "fb49044a",
   "metadata": {},
   "outputs": [
    {
     "data": {
      "text/plain": [
       "[<matplotlib.lines.Line2D at 0x2cfc8e92248>]"
      ]
     },
     "execution_count": 10,
     "metadata": {},
     "output_type": "execute_result"
    },
    {
     "data": {
      "image/png": "[encoded data removed]",
      "text/plain": [
       "<Figure size 432x288 with 1 Axes>"
      ]
     },
     "metadata": {
      "needs_background": "light"
     },
     "output_type": "display_data"
    }
   ],
   "source": [
    "# Plot of the binned data \n",
    "plt.plot(alteredX,alteredY)"
   ]
  },
  {
   "cell_type": "markdown",
   "id": "397c76ca",
   "metadata": {},
   "source": [
    "B. Binning integers \n"
   ]
  },
  {
   "cell_type": "code",
   "execution_count": 9,
   "id": "aeb0be7e",
   "metadata": {},
   "outputs": [
    {
     "name": "stdout",
     "output_type": "stream",
     "text": [
      "[11  8 13 ...  8  6  8]\n",
      "min: 2, max: 22\n"
     ]
    }
   ],
   "source": [
    "xp = np.random.poisson(lam=10, size=5000) # Generates 5000 number from a Poission distribution\n",
    "\n",
    "min = xp[0]\n",
    "max = xp[0]\n",
    "for i in xp:    # Iterates over values in xp and finds max and min\n",
    "    if i > max:\n",
    "        max = i\n",
    "    if i < min:\n",
    "        min = i\n",
    "        \n",
    "print(\"min: {}, max: {}\".format(min,max)) \n",
    "\n",
    "\n"
   ]
  },
  {
   "cell_type": "code",
   "execution_count": 23,
   "id": "1d29b9ea",
   "metadata": {},
   "outputs": [
    {
     "name": "stdout",
     "output_type": "stream",
     "text": [
      "Sum of bincounts: 22\n"
     ]
    },
    {
     "data": {
      "image/png": "[encoded data removed]",
      "text/plain": [
       "<Figure size 432x288 with 1 Axes>"
      ]
     },
     "metadata": {
      "needs_background": "light"
     },
     "output_type": "display_data"
    }
   ],
   "source": [
    "from tkinter import Grid\n",
    "\n",
    "# create vector v to contain each integer value in its own bin\n",
    "v = [min-0.5]\n",
    "\n",
    "# iterates from 1 to max(xp) to generate bin-vector\n",
    "for i in range(1,max+1):\n",
    "    v.append(v[i-1]+1)\n",
    "    \n",
    "hist = np.histogram(xp,v) # generates histogram parameters \n",
    "\n",
    "\n",
    "# barplot of the poisson distribution\n",
    "plt.bar(x=v[0:-1], height= hist[0], width= 1.0, align= 'edge') # Remove last bin limit\n",
    "plt.grid(\"True\")\n",
    "plt.xlabel(\"[v]\")\n",
    "plt.ylabel(\"Counts\")\n",
    "plt.title(\"Poission distribution\")\n",
    "\n",
    "# calculating the sum of bincounts\n",
    "print(\"Sum of bincounts: {}\".format(sum(np.bincount(hist[0]))))\n"
   ]
  },
  {
   "cell_type": "markdown",
   "metadata": {},
   "source": [
    "To construct the binning vector we used the min-value in <xp> to set the lower binlimit by simply subtracting 0.5, so that each integer value is in its own bin. Whi\n",
    "In general the np.histogram will set the bin range, as (a.min(), a.max()). 'a' being the input data. Which in this case is the the xp-array generated from the gaussion distribution. being the So by altering over binning vector v. We account for that mistake "
   ]
  },
  {
   "cell_type": "code",
   "execution_count": 15,
   "id": "d9d69914",
   "metadata": {},
   "outputs": [
    {
     "name": "stdout",
     "output_type": "stream",
     "text": [
      "[1.5, 2.5, 3.5, 4.5, 5.5, 6.5, 7.5, 8.5, 9.5, 10.5, 11.5, 12.5, 13.5, 14.5, 15.5, 16.5, 17.5, 18.5, 19.5, 20.5, 21.5, 22.5, 23.5]\n",
      "[1.5, 2.5, 3.5, 4.5, 5.5, 6.5, 7.5, 8.5, 9.5, 10.5, 11.5, 12.5, 13.5, 14.5, 15.5, 16.5, 17.5, 18.5, 19.5, 20.5, 21.5, 22.5]\n"
     ]
    }
   ],
   "source": [
    "print(v)\n",
    "print(v[0:-1])"
   ]
  },
  {
   "cell_type": "markdown",
   "id": "7f115c91",
   "metadata": {},
   "source": [
    "# Part 3: Watts-Strogatz Network "
   ]
  },
  {
   "cell_type": "markdown",
   "id": "a80a7040",
   "metadata": {},
   "source": [
    "Use nx.watts_strogatz_graph to generate 3 graphs with 500 nodes each, average degree = 4, and rewiring probablity p = 0, 0.1 and 1.\n",
    "\n",
    "Calculate the average shortest path length <d> for each one. \n",
    "\n",
    "\n",
    "Describe what happens to the network when p = 1 "
   ]
  },
  {
   "cell_type": "code",
   "execution_count": null,
   "id": "9bb97ba6",
   "metadata": {},
   "outputs": [],
   "source": [
    "N = 500\n",
    "k = 4\n",
    "p = np.array([0,0.1,1])\n",
    "# Drawing graph\n",
    "G = nx.watts_strogatz_graph(N,k,p[0])\n",
    "G2 = nx.watts_strogatz_graph(N,k,p[1])\n",
    "G3 = nx.watts_strogatz_graph(N,k,p[2])\n",
    "\n",
    "options = {\n",
    "    'node_color': 'pink',\n",
    "    'node_size': 0.5,\n",
    "    'width': 0.5,\n",
    "}\n",
    "\n",
    "\n",
    "\n",
    "pos = nx.circular_layout(G)\n",
    "nx.draw(G,pos, **options)\n",
    "\n",
    "pos2 = nx.circular_layout(G2)\n",
    "nx.draw(G2,pos2, **options)\n",
    "\n",
    "pos3 = nx.circular_layout(G3)\n",
    "nx.draw(G3,pos3, **options)\n",
    "\n",
    "\n",
    "plt.show()\n",
    "\n",
    "ShortPath_G = nx.average_shortest_path_length(G)\n",
    "ShortPath_G2 = nx.average_shortest_path_length(G2)\n",
    "ShortPath_G3 = nx.average_shortest_path_length(G3)\n",
    "print('With a p-value of 0.0 the average shortest path length in the graph is %s' % ShortPath_G)\n",
    "print('With a p-value of 0.1 the average shortest path length in the graph is %s' % ShortPath_G2)\n",
    "print('With a p-value of 1.0 the average shortest path length is the graph is  %s' % ShortPath_G3)"
   ]
  },
  {
   "cell_type": "markdown",
   "id": "b6d72490",
   "metadata": {},
   "source": [
    "B"
   ]
  },
  {
   "cell_type": "code",
   "execution_count": null,
   "id": "978d376a",
   "metadata": {},
   "outputs": [],
   "source": [
    "def GraphGenerator(p):\n",
    "    n = 50 \n",
    "    k = 6\n",
    "    N = 500\n",
    "    AvS = []\n",
    "    for i in range(1,n+1):\n",
    "    \n",
    "        G = nx.watts_strogatz_graph(N,k,p)\n",
    "        S = nx.average_shortest_path_length(G)\n",
    "        AvS.append(S)\n",
    "    A = np.mean(AvS)\n",
    "    M = np.std(AvS)\n",
    "    \n",
    "    return A,M \n",
    " \n",
    "A,M = GraphGenerator(0)\n",
    "A1,M1 = GraphGenerator(0.01)  \n",
    "A2,M2 = GraphGenerator(0.03)\n",
    "A3,M3 = GraphGenerator(0.05)\n",
    "A4,M4 = GraphGenerator(0.1)\n",
    "A5,M5 = GraphGenerator(0.2)  \n",
    "\n",
    "x = np.array([0,0.01,0.03,0.05,0.1,0.2])\n",
    "y = np.array([A,A1,A2,A3,A4,A5])\n",
    "E = np.array([M,M1,M2,M3,M4,M5])\n",
    "\n",
    "import matplotlib.pyplot as plt\n",
    "plt.plot(x, y, 'o-')\n",
    "plt.errorbar(x,y,yerr=E )\n",
    "plt.ylabel('<d>')\n",
    "plt.xlabel('p')\n",
    "plt.title('Wattz-strogats Network with p = {0, 0.01, 0.03, 0.05, 0.1, 0.2}')\n",
    "\n",
    "plt.show()\n",
    "\n"
   ]
  },
  {
   "cell_type": "markdown",
   "id": "fd9cdd31",
   "metadata": {},
   "source": [
    "# 4 The Barabasi-Albert Model"
   ]
  },
  {
   "cell_type": "code",
   "execution_count": 17,
   "id": "87181709",
   "metadata": {},
   "outputs": [],
   "source": [
    "BA = nx.Graph()\n",
    "BA.add_edge(0, 1)\n",
    "nodeRep = [0,1]"
   ]
  },
  {
   "cell_type": "code",
   "execution_count": 18,
   "id": "b5ce0620",
   "metadata": {},
   "outputs": [],
   "source": [
    "for i in range(2,100):\n",
    "    choice = random.choice(nodeRep)\n",
    "    BA.add_edge(i,choice)\n",
    "    nodeRep.append(i)\n",
    "    nodeRep.append(choice)"
   ]
  },
  {
   "cell_type": "code",
   "execution_count": 19,
   "id": "3ef1296f",
   "metadata": {},
   "outputs": [
    {
     "data": {
      "image/png": "[encoded data removed]",
      "text/plain": [
       "<Figure size 432x288 with 1 Axes>"
      ]
     },
     "metadata": {},
     "output_type": "display_data"
    }
   ],
   "source": [
    "nx.draw(BA, with_labels=True, node_size=100)"
   ]
  },
  {
   "cell_type": "code",
   "execution_count": 20,
   "id": "b7cedeb8",
   "metadata": {},
   "outputs": [],
   "source": [
    "BA2 = nx.Graph()\n",
    "BA2.add_edge(0, 1)\n",
    "nodeRep2 = [0,1]"
   ]
  },
  {
   "cell_type": "code",
   "execution_count": 21,
   "id": "5060a1a6",
   "metadata": {},
   "outputs": [],
   "source": [
    "for i in range(2,5000):\n",
    "    choice = random.choice(nodeRep2)\n",
    "    BA2.add_edge(i,choice)\n",
    "    nodeRep2.append(i)\n",
    "    nodeRep2.append(choice)"
   ]
  },
  {
   "cell_type": "code",
   "execution_count": 22,
   "id": "0538be71",
   "metadata": {},
   "outputs": [],
   "source": [
    "max = BA2.degree[0]\n",
    "min = BA2.degree[0]\n",
    "dd = []\n",
    "for i in range(len(BA2.nodes)):\n",
    "    dd.append(BA2.degree[i])\n",
    "    if BA2.degree[i]<min:\n",
    "        min = BA2.degree[i]\n",
    "    if BA2.degree[i]>max:\n",
    "        max = BA2.degree[i]"
   ]
  },
  {
   "cell_type": "code",
   "execution_count": 23,
   "id": "b1be71b6",
   "metadata": {},
   "outputs": [],
   "source": [
    "binEdges = [min-0.5]\n",
    "for i in range(1,max+1):\n",
    "    binEdges.append(binEdges[i-1]+1)"
   ]
  },
  {
   "cell_type": "code",
   "execution_count": 24,
   "id": "040a4797",
   "metadata": {},
   "outputs": [],
   "source": [
    "BA2_hist = np.histogram(dd, binEdges)"
   ]
  },
  {
   "cell_type": "code",
   "execution_count": 25,
   "id": "5b538bb0",
   "metadata": {},
   "outputs": [
    {
     "data": {
      "text/plain": [
       "<BarContainer object of 108 artists>"
      ]
     },
     "execution_count": 25,
     "metadata": {},
     "output_type": "execute_result"
    },
    {
     "data": {
      "image/png": "[encoded data removed]",
      "text/plain": [
       "<Figure size 432x288 with 1 Axes>"
      ]
     },
     "metadata": {
      "needs_background": "light"
     },
     "output_type": "display_data"
    }
   ],
   "source": [
    "plt.bar(x=binEdges[1:], height=BA2_hist[0], width=1.0, align = 'edge')"
   ]
  },
  {
   "cell_type": "code",
   "execution_count": 26,
   "id": "74400190",
   "metadata": {},
   "outputs": [],
   "source": [
    "for i in range(len(binEdges)):\n",
    "    binEdges[i] = binEdges[i] + 0.5"
   ]
  },
  {
   "cell_type": "code",
   "execution_count": 27,
   "id": "9fb0b222",
   "metadata": {},
   "outputs": [
    {
     "data": {
      "text/plain": [
       "[<matplotlib.lines.Line2D at 0x24bef84a880>]"
      ]
     },
     "execution_count": 27,
     "metadata": {},
     "output_type": "execute_result"
    },
    {
     "data": {
      "image/png": "[encoded data removed]",
      "text/plain": [
       "<Figure size 432x288 with 1 Axes>"
      ]
     },
     "metadata": {
      "needs_background": "light"
     },
     "output_type": "display_data"
    }
   ],
   "source": [
    "plt.loglog(binEdges[1:], BA2_hist[0], 'o')"
   ]
  },
  {
   "cell_type": "code",
   "execution_count": 23,
   "id": "8a3347b9",
   "metadata": {},
   "outputs": [],
   "source": [
    "xLog = []\n",
    "yLog = []\n",
    "for i in range(len(binEdges)-1):\n",
    "    if BA2_hist[0][i] != 0:\n",
    "        xLog.append(math.log10(binEdges[i+1]))\n",
    "        yLog.append(math.log10(BA2_hist[0][i]))"
   ]
  },
  {
   "cell_type": "markdown",
   "id": "18d369ef",
   "metadata": {},
   "source": [
    "# 5 Power-laws and the friendship paradox"
   ]
  },
  {
   "cell_type": "markdown",
   "id": "6d93aed1",
   "metadata": {},
   "source": [
    "Pick a node i at random (e.g. use random.choice). Find its degree. Find i's neighbors. And calculate their average degree. Compare the two numbers to check if it's true that i's friends (on average) have more friends than. Do this 1000 times. How many out of those 1000 times is the friendship paradox true in F-BA?"
   ]
  },
  {
   "cell_type": "code",
   "execution_count": 45,
   "id": "873566fd",
   "metadata": {},
   "outputs": [],
   "source": [
    "F_BA = BA2"
   ]
  },
  {
   "cell_type": "code",
   "execution_count": 46,
   "id": "494b25b2",
   "metadata": {},
   "outputs": [
    {
     "name": "stdout",
     "output_type": "stream",
     "text": [
      "857/1000\n"
     ]
    }
   ],
   "source": [
    "paradox = 0\n",
    "for i in range(1000):\n",
    "    \n",
    "    count = 0.0\n",
    "    sum = 0.0\n",
    "    choice = random.choice(list(F_BA.nodes))\n",
    "    for n in F_BA.neighbors(choice):\n",
    "        count = count + 1\n",
    "        sum = sum + F_BA.degree(n)\n",
    "    if (sum/count)>F_BA.degree(choice):\n",
    "        paradox = paradox + 1\n",
    "        \n",
    "print(\"{}/{}\".format(paradox,1000))"
   ]
  },
  {
   "cell_type": "markdown",
   "id": "5d7dc87f",
   "metadata": {},
   "source": [
    "What if the power law is flatter? Will the fraction of times the paradox is true be higher or lower?\n",
    "\n",
    "The flatter the power law is, the wider it will spread. This means that the extreme nodes will be even more extreme with a very high degree.\n",
    "\n",
    "Because more nodes, or people as in this case, will have a very high amount of friends the average amount of friends increases to an extent where very few people have more friends than the average of their friend group."
   ]
  },
  {
   "cell_type": "code",
   "execution_count": 47,
   "id": "c3b597eb",
   "metadata": {},
   "outputs": [],
   "source": [
    "sequence = nx.utils.powerlaw_sequence(n = 1000, exponent = 1.5)\n",
    "sequence = [round(num) for num in sequence]\n",
    "sequence.sort()"
   ]
  },
  {
   "cell_type": "code",
   "execution_count": 48,
   "id": "06fa75b4",
   "metadata": {},
   "outputs": [],
   "source": [
    "#checking if sum of degrees is odd, fixing it if it is\n",
    "sum = 0\n",
    "for degree in sequence:\n",
    "    sum = sum + degree\n",
    "if (sum % 2) != 0:\n",
    "    sequence[0] = sequence[0] + 1"
   ]
  },
  {
   "cell_type": "code",
   "execution_count": 49,
   "id": "7f44d823",
   "metadata": {},
   "outputs": [],
   "source": [
    "model = nx.configuration_model(sequence)"
   ]
  },
  {
   "cell_type": "code",
   "execution_count": 50,
   "id": "8b3e934c",
   "metadata": {},
   "outputs": [],
   "source": [
    "dd = []\n",
    "min = model.degree[0]\n",
    "max = model.degree[0]\n",
    "for i in range(len(model.nodes)):\n",
    "    dd.append(model.degree[i])\n",
    "    if model.degree[i]<min:\n",
    "        min = model.degree[i]\n",
    "    if model.degree[i]>max:\n",
    "        max = model.degree[i]"
   ]
  },
  {
   "cell_type": "code",
   "execution_count": 51,
   "id": "d072fd0b",
   "metadata": {},
   "outputs": [],
   "source": [
    "binEdges = [min-0.5]\n",
    "for i in range(1,max+1):\n",
    "    binEdges.append(binEdges[i-1]+1)"
   ]
  },
  {
   "cell_type": "code",
   "execution_count": 52,
   "id": "72fb20a4",
   "metadata": {},
   "outputs": [],
   "source": [
    "model_hist = np.histogram(dd, binEdges)"
   ]
  },
  {
   "cell_type": "code",
   "execution_count": 53,
   "id": "357a9f4b",
   "metadata": {},
   "outputs": [],
   "source": [
    "for i in range(len(binEdges)):\n",
    "    binEdges[i] = binEdges[i] + 0.5"
   ]
  },
  {
   "cell_type": "code",
   "execution_count": 54,
   "id": "e07ac8b5",
   "metadata": {},
   "outputs": [
    {
     "data": {
      "text/plain": [
       "[<matplotlib.lines.Line2D at 0x16dd487ba90>]"
      ]
     },
     "execution_count": 54,
     "metadata": {},
     "output_type": "execute_result"
    },
    {
     "data": {
      "image/png": "[encoded data removed]",
      "text/plain": [
       "<Figure size 432x288 with 1 Axes>"
      ]
     },
     "metadata": {
      "needs_background": "light"
     },
     "output_type": "display_data"
    }
   ],
   "source": [
    "plt.loglog(binEdges[1:], model_hist[0], 'o')"
   ]
  },
  {
   "cell_type": "code",
   "execution_count": 55,
   "id": "4b63ca58",
   "metadata": {},
   "outputs": [
    {
     "name": "stdout",
     "output_type": "stream",
     "text": [
      "987/1000\n"
     ]
    }
   ],
   "source": [
    "paradox = 0\n",
    "for i in range(len(model.nodes)):\n",
    "    \n",
    "    count = 0.0\n",
    "    sum = 0.0\n",
    "    choice = random.choice(list(model.nodes))\n",
    "    for n in model.neighbors(choice):\n",
    "        count = count + 1\n",
    "        sum = sum + model.degree(n)\n",
    "    if (sum/count)>model.degree(choice):\n",
    "        paradox = paradox + 1\n",
    "        \n",
    "print(\"{}/{}\".format(paradox,len(model.nodes)))"
   ]
  },
  {
   "cell_type": "code",
   "execution_count": null,
   "id": "055c00b0",
   "metadata": {},
   "outputs": [],
   "source": []
  },
  {
   "cell_type": "markdown",
   "id": "23314166",
   "metadata": {},
   "source": [
    " ## Part 6. Growth without Preferential Attachment\n",
    " \n",
    "Finally, we'll build a network of same size and degree as in Part 5, using the growth mechanism without the preferential attachment. Follow the steps below for success\n",
    "\n",
    "Grow a network with the same parameters as above, i.e. 5000 nodes, each new node connects to the existing network, but have the incoming nodes connect to the existing nodes with equal probability.\n",
    "\n",
    "Let's call this the Sune-network.\n",
    "Generate an ER network of same size and same  as the Sune-network.\n",
    "\n",
    "What are the differences between the ER network and the Sune-network? Explain in your own words.\n",
    "\n",
    "Hints: To get started, plot the two degree distribution in the same plot. Compare and contrast. Another revealing network property to study is the the number of connected components."
   ]
  },
  {
   "cell_type": "code",
   "execution_count": 2,
   "id": "5b125602",
   "metadata": {},
   "outputs": [
    {
     "data": {
      "image/png": "[encoded data removed]",
      "text/plain": [
       "<Figure size 432x288 with 2 Axes>"
      ]
     },
     "metadata": {},
     "output_type": "display_data"
    }
   ],
   "source": [
    "import networkx as nx\n",
    "import random\n",
    "from random import choice \n",
    "\n",
    "# Sune-network \n",
    "S = nx.Graph()\n",
    "S.add_edge(0, 1)\n",
    "NodeRep2 = [0,1]\n",
    "N = 500\n",
    "nodes = [0,1]\n",
    "\n",
    "for i in range(2,N):\n",
    "    S.add_edge(i,random.choice(nodes))\n",
    "    nodes.append(i)\n",
    "    \n",
    "    \n",
    "# Er Network \n",
    "\n",
    "# Use seed for reproducibility\n",
    "\n",
    "ER = nx.gnm_random_graph(N, N-1)\n",
    "\n",
    "import matplotlib.pyplot as plt \n",
    "\n",
    "\n",
    "subax1 = plt.subplot(121)\n",
    "nx.draw(S, with_labels=False, node_size=0.1)\n",
    "subax2 = plt.subplot(122)\n",
    "nx.draw_shell(ER, with_labels=False, node_size=0.1)\n",
    "\n",
    "\n",
    "    \n",
    "\n",
    "#for n in S.nodes:\n",
    " #   C = random.choice(N)\n",
    "  #  S.add_edge(i,C)\n",
    "    \n"
   ]
  },
  {
   "cell_type": "code",
   "execution_count": 4,
   "id": "975b9050",
   "metadata": {},
   "outputs": [
    {
     "name": "stdout",
     "output_type": "stream",
     "text": [
      "Graph with 500 nodes and 499 edges\n"
     ]
    },
    {
     "data": {
      "image/png": "[encoded data removed]",
      "text/plain": [
       "<Figure size 432x288 with 1 Axes>"
      ]
     },
     "metadata": {
      "needs_background": "light"
     },
     "output_type": "display_data"
    }
   ],
   "source": [
    "print(S)\n",
    "import numpy as np\n",
    "\n",
    "degree_sequence = sorted((d for n, d in S.degree()), reverse=True)\n",
    "dmax = max(degree_sequence)\n",
    "degree_sequence2 = sorted((d for n, d in ER.degree()), reverse=True)\n",
    "dmax2 = max(degree_sequence)\n",
    "\n",
    "\n",
    "\n",
    "\n",
    "#fig = plt.figure(\"Degree Analysis\", figsize=(8, 8))\n",
    "# Create a gridspec for adding subplots of different sizes\n",
    "#axgrid = fig.add_gridspec(5, 4)\n",
    "\n",
    "plt.xlabel(\"Degree\")\n",
    "plt.ylabel(\"# of nodes\")\n",
    "plt.title(\"Degree plot\")\n",
    "\n",
    "plt.bar(*np.unique(degree_sequence, return_counts=True))\n",
    "plt.bar(*np.unique(degree_sequence2, return_counts=True))\n",
    "\n",
    "plt.xlabel(\"Degree\")\n",
    "plt.ylabel(\"# of nodes\")\n",
    "plt.title(\"Degree Analysis\")\n",
    "plt.grid(\"True\")"
   ]
  },
  {
   "cell_type": "code",
   "execution_count": 44,
   "id": "0d867c4c",
   "metadata": {},
   "outputs": [
    {
     "ename": "NameError",
     "evalue": "name 'model' is not defined",
     "output_type": "error",
     "traceback": [
      "\u001b[1;31m---------------------------------------------------------------------------\u001b[0m",
      "\u001b[1;31mNameError\u001b[0m                                 Traceback (most recent call last)",
      "\u001b[1;32m<ipython-input-44-2599f8ff0a64>\u001b[0m in \u001b[0;36m<module>\u001b[1;34m\u001b[0m\n\u001b[0;32m      1\u001b[0m \u001b[0mparadox\u001b[0m \u001b[1;33m=\u001b[0m \u001b[1;36m0\u001b[0m\u001b[1;33m\u001b[0m\u001b[1;33m\u001b[0m\u001b[0m\n\u001b[1;32m----> 2\u001b[1;33m \u001b[1;32mfor\u001b[0m \u001b[0mi\u001b[0m \u001b[1;32min\u001b[0m \u001b[0mrange\u001b[0m\u001b[1;33m(\u001b[0m\u001b[0mlen\u001b[0m\u001b[1;33m(\u001b[0m\u001b[0mmodel\u001b[0m\u001b[1;33m.\u001b[0m\u001b[0mnodes\u001b[0m\u001b[1;33m)\u001b[0m\u001b[1;33m)\u001b[0m\u001b[1;33m:\u001b[0m\u001b[1;33m\u001b[0m\u001b[1;33m\u001b[0m\u001b[0m\n\u001b[0m\u001b[0;32m      3\u001b[0m \u001b[1;33m\u001b[0m\u001b[0m\n\u001b[0;32m      4\u001b[0m     \u001b[0mcount\u001b[0m \u001b[1;33m=\u001b[0m \u001b[1;36m0.0\u001b[0m\u001b[1;33m\u001b[0m\u001b[1;33m\u001b[0m\u001b[0m\n\u001b[0;32m      5\u001b[0m     \u001b[0msum\u001b[0m \u001b[1;33m=\u001b[0m \u001b[1;36m0.0\u001b[0m\u001b[1;33m\u001b[0m\u001b[1;33m\u001b[0m\u001b[0m\n",
      "\u001b[1;31mNameError\u001b[0m: name 'model' is not defined"
     ]
    }
   ],
   "source": [
    "paradox = 0\n",
    "for i in range(len(model.nodes)):\n",
    "    \n",
    "    count = 0.0\n",
    "    sum = 0.0\n",
    "    choice = random.choice(list(model.nodes))\n",
    "    for n in model.neighbors(choice):\n",
    "        count = count + 1\n",
    "        sum = sum + model.degree(n)\n",
    "    if (sum/count)>model.degree(choice):\n",
    "        paradox = paradox + 1\n",
    "        \n",
    "print(\"{}/{}\".format(paradox,len(model.nodes)))"
   ]
  },
  {
   "cell_type": "code",
   "execution_count": null,
   "id": "8bd7e2b5",
   "metadata": {},
   "outputs": [],
   "source": []
  },
  {
   "cell_type": "code",
   "execution_count": 20,
   "id": "f1cbb544",
   "metadata": {},
   "outputs": [],
   "source": []
  },
  {
   "cell_type": "code",
   "execution_count": 21,
   "id": "c8efea3c",
   "metadata": {},
   "outputs": [],
   "source": []
  },
  {
   "cell_type": "code",
   "execution_count": 22,
   "id": "8f565abf",
   "metadata": {},
   "outputs": [],
   "source": []
  },
  {
   "cell_type": "code",
   "execution_count": null,
   "id": "e3265b19",
   "metadata": {},
   "outputs": [],
   "source": []
  },
  {
   "cell_type": "code",
   "execution_count": null,
   "id": "6ba4f36b",
   "metadata": {},
   "outputs": [],
   "source": []
  }
 ],
 "metadata": {
  "kernelspec": {
   "display_name": "Python 3",
   "language": "python",
   "name": "python3"
  },
  "language_info": {
   "codemirror_mode": {
    "name": "ipython",
    "version": 3
   },
   "file_extension": ".py",
   "mimetype": "text/x-python",
   "name": "python",
   "nbconvert_exporter": "python",
   "pygments_lexer": "ipython3",
   "version": "3.7.8"
  },
  "vscode": {
   "interpreter": {
    "hash": "0a54084e6b208ee8d1ce3989ffc20924477a5f55f5a43e22e699a6741623861e"
   }
  }
 },
 "nbformat": 4,
 "nbformat_minor": 5
}
