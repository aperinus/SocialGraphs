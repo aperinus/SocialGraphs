{
 "cells": [
  {
   "cell_type": "code",
   "execution_count": 22,
   "id": "56222016",
   "metadata": {},
   "outputs": [],
   "source": [
    "import numpy as np\n",
    "import pandas as pd\n",
    "import random\n",
    "import networkx as nx\n",
    "import matplotlib.pyplot as plt"
   ]
  },
  {
   "cell_type": "markdown",
   "id": "90e62f2e",
   "metadata": {},
   "source": [
    "# Part 1: Binning degree distributions"
   ]
  },
  {
   "cell_type": "markdown",
   "id": "d534d768",
   "metadata": {},
   "source": [
    "A. Binning real numbers\n",
    "\n",
    "Let's do a gentle start and use the random library generate 5000 data points from a Gaussian distribution."
   ]
  },
  {
   "cell_type": "code",
   "execution_count": 5,
   "id": "495fc3fc",
   "metadata": {},
   "outputs": [],
   "source": [
    "x = np.random.normal(loc=2, scale=0.125, size=5000)"
   ]
  },
  {
   "cell_type": "markdown",
   "id": "0ca2db67",
   "metadata": {},
   "source": [
    "Now, let's use numpy.histogram to bin those number into 10 bins. What does the numpy.histogram function return? Do the two arrays have the same length?"
   ]
  },
  {
   "cell_type": "code",
   "execution_count": 6,
   "id": "97592105",
   "metadata": {},
   "outputs": [],
   "source": [
    "bins = 10\n",
    "ranged = None\n",
    "normed = None\n",
    "weights = None\n",
    "density = None\n",
    "hist = np.histogram(x, bins, ranged, normed, weights, density)"
   ]
  },
  {
   "cell_type": "code",
   "execution_count": 7,
   "id": "2de0e5b7",
   "metadata": {},
   "outputs": [
    {
     "data": {
      "text/plain": [
       "(array([   2,   24,  130,  575, 1306, 1540, 1015,  323,   78,    7],\n",
       "       dtype=int64),\n",
       " array([1.46843731, 1.56853691, 1.66863652, 1.76873613, 1.86883573,\n",
       "        1.96893534, 2.06903495, 2.16913456, 2.26923416, 2.36933377,\n",
       "        2.46943338]))"
      ]
     },
     "execution_count": 7,
     "metadata": {},
     "output_type": "execute_result"
    }
   ],
   "source": [
    "hist"
   ]
  },
  {
   "cell_type": "markdown",
   "id": "9916ad65",
   "metadata": {},
   "source": [
    "It produces two arrays, one with limit of bins and one with the amount of data points in each bin.\n",
    "<br>The array of data points has a length of 10 while the array of bin limits has a length of 11. This is because it takes two bin limits to form one bin, but the two outer limits are only used once. Because of this, we simply remove the top limit."
   ]
  },
  {
   "cell_type": "code",
   "execution_count": 8,
   "id": "1ae020ba",
   "metadata": {},
   "outputs": [],
   "source": [
    "alteredY = []\n",
    "for i in hist[0]:\n",
    "    alteredY.append(i)\n",
    "    alteredY.append(i)"
   ]
  },
  {
   "cell_type": "code",
   "execution_count": 9,
   "id": "cbb3030e",
   "metadata": {},
   "outputs": [],
   "source": [
    "alteredX = []\n",
    "alteredX.append(hist[1][0])\n",
    "for i in hist[1][1:-1]:\n",
    "    alteredX.append(i)\n",
    "    alteredX.append(i)\n",
    "alteredX.append(hist[1][-1])"
   ]
  },
  {
   "cell_type": "code",
   "execution_count": 10,
   "id": "fb49044a",
   "metadata": {},
   "outputs": [
    {
     "data": {
      "text/plain": [
       "[<matplotlib.lines.Line2D at 0x2cfc8e92248>]"
      ]
     },
     "execution_count": 10,
     "metadata": {},
     "output_type": "execute_result"
    },
    {
     "data": {
      "image/png": "[encoded data removed]",
      "text/plain": [
       "<Figure size 432x288 with 1 Axes>"
      ]
     },
     "metadata": {
      "needs_background": "light"
     },
     "output_type": "display_data"
    }
   ],
   "source": [
    "plt.plot(alteredX,alteredY)"
   ]
  },
  {
   "cell_type": "markdown",
   "id": "397c76ca",
   "metadata": {},
   "source": [
    "B. Binning integers \n"
   ]
  },
  {
   "cell_type": "code",
   "execution_count": 12,
   "id": "aeb0be7e",
   "metadata": {},
   "outputs": [
    {
     "name": "stdout",
     "output_type": "stream",
     "text": [
      "min: 1, max: 23\n"
     ]
    }
   ],
   "source": [
    "xp = np.random.poisson(lam=10, size=5000) \n",
    "\n",
    "min = xp[0]\n",
    "max = xp[0]\n",
    "for i in xp:\n",
    "    if i > max:\n",
    "        max = i\n",
    "    if i < min:\n",
    "        min = i\n",
    "        \n",
    "print(\"min: {}, max: {}\".format(min,max))\n",
    "\n",
    "\n"
   ]
  },
  {
   "cell_type": "code",
   "execution_count": 19,
   "id": "1d29b9ea",
   "metadata": {},
   "outputs": [
    {
     "ename": "TypeError",
     "evalue": "unsupported operand type(s) for -: 'builtin_function_or_method' and 'float'",
     "output_type": "error",
     "traceback": [
      "\u001b[1;31m---------------------------------------------------------------------------\u001b[0m",
      "\u001b[1;31mTypeError\u001b[0m                                 Traceback (most recent call last)",
      "\u001b[1;32m<ipython-input-19-49baed65c144>\u001b[0m in \u001b[0;36m<module>\u001b[1;34m\u001b[0m\n\u001b[0;32m      2\u001b[0m \u001b[1;33m\u001b[0m\u001b[0m\n\u001b[0;32m      3\u001b[0m \u001b[1;33m\u001b[0m\u001b[0m\n\u001b[1;32m----> 4\u001b[1;33m \u001b[0mbinE\u001b[0m \u001b[1;33m=\u001b[0m \u001b[1;33m[\u001b[0m\u001b[0mmin\u001b[0m\u001b[1;33m-\u001b[0m\u001b[1;36m0.5\u001b[0m\u001b[1;33m]\u001b[0m\u001b[1;33m\u001b[0m\u001b[1;33m\u001b[0m\u001b[0m\n\u001b[0m\u001b[0;32m      5\u001b[0m \u001b[1;33m\u001b[0m\u001b[0m\n\u001b[0;32m      6\u001b[0m \u001b[1;32mfor\u001b[0m \u001b[0mi\u001b[0m \u001b[1;32min\u001b[0m \u001b[0mrange\u001b[0m\u001b[1;33m(\u001b[0m\u001b[1;36m1\u001b[0m\u001b[1;33m,\u001b[0m\u001b[0mmax\u001b[0m\u001b[1;33m+\u001b[0m\u001b[1;36m1\u001b[0m\u001b[1;33m)\u001b[0m\u001b[1;33m:\u001b[0m\u001b[1;33m\u001b[0m\u001b[1;33m\u001b[0m\u001b[0m\n",
      "\u001b[1;31mTypeError\u001b[0m: unsupported operand type(s) for -: 'builtin_function_or_method' and 'float'"
     ]
    }
   ],
   "source": [
    "from tkinter import Grid\n",
    "\n",
    "\n",
    "binE = [min-0.5]\n",
    "\n",
    "for i in range(1,max+1):\n",
    "    binE.append(binE[i-1]+1)\n",
    "    \n",
    "hist = np.histogram(xp,binE)\n",
    "\n",
    "\n",
    "plt.bar(x=binE[0:-1], height= hist[0], width= 1.0, align= 'edge')\n",
    "\n",
    "\n",
    "print(binE)\n"
   ]
  },
  {
   "cell_type": "code",
   "execution_count": 33,
   "id": "75e3969e",
   "metadata": {},
   "outputs": [],
   "source": [
    "N = 5000\n",
    "p = 10/(N-1)"
   ]
  },
  {
   "cell_type": "code",
   "execution_count": 34,
   "id": "0a768432",
   "metadata": {},
   "outputs": [],
   "source": [
    "ER = nx.erdos_renyi_graph(N, p, seed=None, directed=False)"
   ]
  },
  {
   "cell_type": "code",
   "execution_count": 35,
   "id": "b8a88a96",
   "metadata": {},
   "outputs": [],
   "source": [
    "#networkx.draw(ER, with_labels=True, node_size=5)"
   ]
  },
  {
   "cell_type": "code",
   "execution_count": 36,
   "id": "08a23d52",
   "metadata": {},
   "outputs": [],
   "source": [
    "dd = []\n",
    "min = ER.degree[0]\n",
    "max = ER.degree[0]\n",
    "for n in range(len(ER.nodes)):\n",
    "    dd.append(ER.degree[n])\n",
    "    if ER.degree[n] < min:\n",
    "        min = ER.degree[0]\n",
    "    if ER.degree[n] > max:\n",
    "        max = ER.degree[n]\n",
    "        "
   ]
  },
  {
   "cell_type": "code",
   "execution_count": 37,
   "id": "1a8c2f81",
   "metadata": {},
   "outputs": [],
   "source": [
    "binEdges = [min-0.5]\n",
    "for i in range(1,max+1):\n",
    "    binEdges.append(binEdges[i-1]+1)"
   ]
  },
  {
   "cell_type": "code",
   "execution_count": 38,
   "id": "3fe50f3d",
   "metadata": {},
   "outputs": [],
   "source": [
    "histdd = np.histogram(dd, binEdges)"
   ]
  },
  {
   "cell_type": "code",
   "execution_count": 39,
   "id": "f1629945",
   "metadata": {},
   "outputs": [
    {
     "data": {
      "text/plain": [
       "<BarContainer object of 23 artists>"
      ]
     },
     "execution_count": 39,
     "metadata": {},
     "output_type": "execute_result"
    },
    {
     "data": {
      "image/png": "[encoded data removed]",
      "text/plain": [
       "<Figure size 432x288 with 1 Axes>"
      ]
     },
     "metadata": {
      "needs_background": "light"
     },
     "output_type": "display_data"
    }
   ],
   "source": [
    "plt.bar(x=binEdges[1:], height=histdd[0], width=1.0, align = 'edge')"
   ]
  },
  {
   "cell_type": "code",
   "execution_count": null,
   "id": "a246da7e",
   "metadata": {},
   "outputs": [],
   "source": []
  }
 ],
 "metadata": {
  "kernelspec": {
   "display_name": "Python 3",
   "language": "python",
   "name": "python3"
  },
  "language_info": {
   "codemirror_mode": {
    "name": "ipython",
    "version": 3
   },
   "file_extension": ".py",
   "mimetype": "text/x-python",
   "name": "python",
   "nbconvert_exporter": "python",
   "pygments_lexer": "ipython3",
   "version": "3.8.8"
  },
  "vscode": {
   "interpreter": {
    "hash": "0a54084e6b208ee8d1ce3989ffc20924477a5f55f5a43e22e699a6741623861e"
   }
  }
 },
 "nbformat": 4,
 "nbformat_minor": 5
}
