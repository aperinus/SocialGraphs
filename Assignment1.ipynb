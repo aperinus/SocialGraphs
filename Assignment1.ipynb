{
 "cells": [
  {
   "cell_type": "code",
   "execution_count": 4,
   "id": "56222016",
   "metadata": {},
   "outputs": [],
   "source": [
    "import numpy as np\n",
    "import pandas as pd\n",
    "import random\n",
    "import networkx as nx\n",
    "import matplotlib.pyplot as plt"
   ]
  },
  {
   "cell_type": "markdown",
   "id": "90e62f2e",
   "metadata": {},
   "source": [
    "# Part 1: Binning degree distributions"
   ]
  },
  {
   "cell_type": "markdown",
   "id": "d534d768",
   "metadata": {},
   "source": [
    "A. Binning real numbers\n",
    "\n",
    "Let's do a gentle start and use the random library generate 5000 data points from a Gaussian distribution."
   ]
  },
  {
   "cell_type": "code",
   "execution_count": 5,
   "id": "495fc3fc",
   "metadata": {},
   "outputs": [],
   "source": [
    "x = np.random.normal(loc=2, scale=0.125, size=5000)"
   ]
  },
  {
   "cell_type": "markdown",
   "id": "0ca2db67",
   "metadata": {},
   "source": [
    "Now, let's use numpy.histogram to bin those number into 10 bins. What does the numpy.histogram function return? Do the two arrays have the same length?"
   ]
  },
  {
   "cell_type": "code",
   "execution_count": 6,
   "id": "97592105",
   "metadata": {},
   "outputs": [],
   "source": [
    "bins = 10\n",
    "ranged = None\n",
    "normed = None\n",
    "weights = None\n",
    "density = None\n",
    "hist = np.histogram(x, bins, ranged, normed, weights, density)"
   ]
  },
  {
   "cell_type": "code",
   "execution_count": 7,
   "id": "2de0e5b7",
   "metadata": {},
   "outputs": [
    {
     "data": {
      "text/plain": [
       "(array([   2,   24,  130,  575, 1306, 1540, 1015,  323,   78,    7],\n",
       "       dtype=int64),\n",
       " array([1.46843731, 1.56853691, 1.66863652, 1.76873613, 1.86883573,\n",
       "        1.96893534, 2.06903495, 2.16913456, 2.26923416, 2.36933377,\n",
       "        2.46943338]))"
      ]
     },
     "execution_count": 7,
     "metadata": {},
     "output_type": "execute_result"
    }
   ],
   "source": [
    "hist"
   ]
  },
  {
   "cell_type": "markdown",
   "id": "9916ad65",
   "metadata": {},
   "source": [
    "It produces two arrays, one with limit of bins and one with the amount of data points in each bin.\n",
    "<br>The array of data points has a length of 10 while the array of bin limits has a length of 11. This is because it takes two bin limits to form one bin, but the two outer limits are only used once. Because of this, we simply remove the top limit."
   ]
  },
  {
   "cell_type": "code",
   "execution_count": 8,
   "id": "1ae020ba",
   "metadata": {},
   "outputs": [],
   "source": [
    "alteredY = []\n",
    "for i in hist[0]:\n",
    "    alteredY.append(i)\n",
    "    alteredY.append(i)"
   ]
  },
  {
   "cell_type": "code",
   "execution_count": 9,
   "id": "cbb3030e",
   "metadata": {},
   "outputs": [],
   "source": [
    "alteredX = []\n",
    "alteredX.append(hist[1][0])\n",
    "for i in hist[1][1:-1]:\n",
    "    alteredX.append(i)\n",
    "    alteredX.append(i)\n",
    "alteredX.append(hist[1][-1])"
   ]
  },
  {
   "cell_type": "code",
   "execution_count": 10,
   "id": "fb49044a",
   "metadata": {},
   "outputs": [
    {
     "data": {
      "text/plain": [
       "[<matplotlib.lines.Line2D at 0x2cfc8e92248>]"
      ]
     },
     "execution_count": 10,
     "metadata": {},
     "output_type": "execute_result"
    },
    {
     "data": {
      "image/png": "[encoded data removed]",
      "text/plain": [
       "<Figure size 432x288 with 1 Axes>"
      ]
     },
     "metadata": {
      "needs_background": "light"
     },
     "output_type": "display_data"
    }
   ],
   "source": [
    "plt.plot(alteredX,alteredY)"
   ]
  },
  {
   "cell_type": "markdown",
   "id": "397c76ca",
   "metadata": {},
   "source": [
    "B. Binning integers \n"
   ]
  },
  {
   "cell_type": "code",
   "execution_count": 12,
   "id": "aeb0be7e",
   "metadata": {},
   "outputs": [
    {
     "name": "stdout",
     "output_type": "stream",
     "text": [
      "min: 1, max: 23\n"
     ]
    }
   ],
   "source": [
    "xp = np.random.poisson(lam=10, size=5000) \n",
    "\n",
    "min = xp[0]\n",
    "max = xp[0]\n",
    "for i in xp:\n",
    "    if i > max:\n",
    "        max = i\n",
    "    if i < min:\n",
    "        min = i\n",
    "        \n",
    "print(\"min: {}, max: {}\".format(min,max))\n",
    "\n",
    "\n"
   ]
  },
  {
   "cell_type": "code",
   "execution_count": 30,
   "id": "1d29b9ea",
   "metadata": {},
   "outputs": [
    {
     "name": "stdout",
     "output_type": "stream",
     "text": [
      "[0.5, 1.5, 2.5, 3.5, 4.5, 5.5, 6.5, 7.5, 8.5, 9.5, 10.5, 11.5, 12.5, 13.5, 14.5, 15.5, 16.5, 17.5, 18.5, 19.5, 20.5, 21.5, 22.5, 23.5]\n"
     ]
    },
    {
     "data": {
      "image/png": "[encoded data removed]",
      "text/plain": [
       "<Figure size 432x288 with 1 Axes>"
      ]
     },
     "metadata": {
      "needs_background": "light"
     },
     "output_type": "display_data"
    }
   ],
   "source": [
    "from tkinter import Grid\n",
    "\n",
    "\n",
    "binE = [min-0.5]\n",
    "\n",
    "for i in range(1,max+1):\n",
    "    binE.append(binE[i-1]+1)\n",
    "    \n",
    "hist = np.histogram(xp,binE)\n",
    "\n",
    "\n",
    "plt.bar(x=binE[0:-1], height= hist[0], width= 1.0, align= 'edge')\n",
    "\n",
    "\n",
    "print(binE)\n"
   ]
  },
  {
   "cell_type": "markdown",
   "id": "7f115c91",
   "metadata": {},
   "source": [
    "# Part 3: Watts-Strogatz Network "
   ]
  },
  {
   "cell_type": "markdown",
   "id": "a80a7040",
   "metadata": {},
   "source": [
    "Use nx.watts_strogatz_graph to generate 3 graphs with 500 nodes each, average degree = 4, and rewiring probablity p = 0, 0.1 and 1.\n",
    "\n",
    "Calculate the average shortest path length <d> for each one. \n",
    "\n",
    "\n",
    "Describe what happens to the network when p = 1 "
   ]
  },
  {
   "cell_type": "code",
   "execution_count": null,
   "id": "9bb97ba6",
   "metadata": {},
   "outputs": [],
   "source": [
    "N = 500\n",
    "k = 4\n",
    "p = np.array([0,0.1,1])\n",
    "# Drawing graph\n",
    "G = nx.watts_strogatz_graph(N,k,p[0])\n",
    "G2 = nx.watts_strogatz_graph(N,k,p[1])\n",
    "G3 = nx.watts_strogatz_graph(N,k,p[2])\n",
    "\n",
    "options = {\n",
    "    'node_color': 'pink',\n",
    "    'node_size': 0.5,\n",
    "    'width': 0.5,\n",
    "}\n",
    "\n",
    "\n",
    "\n",
    "pos = nx.circular_layout(G)\n",
    "nx.draw(G,pos, **options)\n",
    "\n",
    "pos2 = nx.circular_layout(G2)\n",
    "nx.draw(G2,pos2, **options)\n",
    "\n",
    "pos3 = nx.circular_layout(G3)\n",
    "nx.draw(G3,pos3, **options)\n",
    "\n",
    "\n",
    "plt.show()\n",
    "\n",
    "ShortPath_G = nx.average_shortest_path_length(G)\n",
    "ShortPath_G2 = nx.average_shortest_path_length(G2)\n",
    "ShortPath_G3 = nx.average_shortest_path_length(G3)\n",
    "print('With a p-value of 0.0 the average shortest path length in the graph is %s' % ShortPath_G)\n",
    "print('With a p-value of 0.1 the average shortest path length in the graph is %s' % ShortPath_G2)\n",
    "print('With a p-value of 1.0 the average shortest path length is the graph is  %s' % ShortPath_G3)"
   ]
  },
  {
   "cell_type": "markdown",
   "id": "b6d72490",
   "metadata": {},
   "source": [
    "B"
   ]
  },
  {
   "cell_type": "code",
   "execution_count": null,
   "id": "978d376a",
   "metadata": {},
   "outputs": [],
   "source": [
    "def GraphGenerator(p):\n",
    "    n = 50 \n",
    "    k = 6\n",
    "    N = 500\n",
    "    AvS = []\n",
    "    for i in range(1,n+1):\n",
    "    \n",
    "        G = nx.watts_strogatz_graph(N,k,p)\n",
    "        S = nx.average_shortest_path_length(G)\n",
    "        AvS.append(S)\n",
    "    A = np.mean(AvS)\n",
    "    M = np.std(AvS)\n",
    "    \n",
    "    return A,M \n",
    " \n",
    "A,M = GraphGenerator(0)\n",
    "A1,M1 = GraphGenerator(0.01)  \n",
    "A2,M2 = GraphGenerator(0.03)\n",
    "A3,M3 = GraphGenerator(0.05)\n",
    "A4,M4 = GraphGenerator(0.1)\n",
    "A5,M5 = GraphGenerator(0.2)  \n",
    "\n",
    "x = np.array([0,0.01,0.03,0.05,0.1,0.2])\n",
    "y = np.array([A,A1,A2,A3,A4,A5])\n",
    "E = np.array([M,M1,M2,M3,M4,M5])\n",
    "\n",
    "import matplotlib.pyplot as plt\n",
    "plt.plot(x, y, 'o-')\n",
    "plt.errorbar(x,y,yerr=E )\n",
    "plt.ylabel('<d>')\n",
    "plt.xlabel('p')\n",
    "plt.title('Wattz-strogats Network with p = {0, 0.01, 0.03, 0.05, 0.1, 0.2}')\n",
    "\n",
    "plt.show()\n",
    "\n"
   ]
  },
  {
   "cell_type": "markdown",
   "id": "fd9cdd31",
   "metadata": {},
   "source": [
    "# 4 The Barabasi-Albert Model"
   ]
  },
  {
   "cell_type": "code",
   "execution_count": 17,
   "id": "87181709",
   "metadata": {},
   "outputs": [],
   "source": [
    "G = nx.Graph()\n",
    "G.add_edge(0, 1)\n",
    "nodeRep = [0,1]"
   ]
  },
  {
   "cell_type": "code",
   "execution_count": 18,
   "id": "b5ce0620",
   "metadata": {},
   "outputs": [],
   "source": [
    "for i in range(2,100):\n",
    "    choice = random.choice(nodeRep)\n",
    "    G.add_edge(i,choice)\n",
    "    nodeRep.append(i)\n",
    "    nodeRep.append(choice)"
   ]
  },
  {
   "cell_type": "code",
   "execution_count": 19,
   "id": "3ef1296f",
   "metadata": {},
   "outputs": [
    {
     "data": {
      "image/png": "[encoded data removed]",
      "text/plain": [
       "<Figure size 432x288 with 1 Axes>"
      ]
     },
     "metadata": {},
     "output_type": "display_data"
    }
   ],
   "source": [
    "nx.draw(G, with_labels=True, node_size=100)"
   ]
  },
  {
   "cell_type": "code",
   "execution_count": 20,
   "id": "b7cedeb8",
   "metadata": {},
   "outputs": [],
   "source": [
    "G2 = nx.Graph()\n",
    "G2.add_edge(0, 1)\n",
    "nodeRep2 = [0,1]"
   ]
  },
  {
   "cell_type": "code",
   "execution_count": 21,
   "id": "5060a1a6",
   "metadata": {},
   "outputs": [],
   "source": [
    "for i in range(2,5000):\n",
    "    choice = random.choice(nodeRep2)\n",
    "    G2.add_edge(i,choice)\n",
    "    nodeRep2.append(i)\n",
    "    nodeRep2.append(choice)"
   ]
  },
  {
   "cell_type": "code",
   "execution_count": 22,
   "id": "0538be71",
   "metadata": {},
   "outputs": [],
   "source": [
    "max = G2.degree[0]\n",
    "min = G2.degree[0]\n",
    "dd = []\n",
    "for i in range(len(G2.nodes)):\n",
    "    dd.append(G2.degree[i])\n",
    "    if G2.degree[i]<min:\n",
    "        min = G.degree[i]\n",
    "    if G2.degree[i]>max:\n",
    "        min = G.degree[i]"
   ]
  },
  {
   "cell_type": "code",
   "execution_count": 23,
   "id": "b1be71b6",
   "metadata": {},
   "outputs": [],
   "source": [
    "binEdges = [min-0.5]\n",
    "for i in range(1,max+1):\n",
    "    binEdges.append(binEdges[i-1]+1)"
   ]
  },
  {
   "cell_type": "code",
   "execution_count": 24,
   "id": "040a4797",
   "metadata": {},
   "outputs": [],
   "source": [
    "histdd = np.histogram(dd, binEdges)"
   ]
  },
  {
   "cell_type": "code",
   "execution_count": 25,
   "id": "5b538bb0",
   "metadata": {},
   "outputs": [
    {
     "data": {
      "text/plain": [
       "<BarContainer object of 108 artists>"
      ]
     },
     "execution_count": 25,
     "metadata": {},
     "output_type": "execute_result"
    },
    {
     "data": {
      "image/png": "[encoded data removed]",
      "text/plain": [
       "<Figure size 432x288 with 1 Axes>"
      ]
     },
     "metadata": {
      "needs_background": "light"
     },
     "output_type": "display_data"
    }
   ],
   "source": [
    "plt.bar(x=binEdges[1:], height=histdd[0], width=1.0, align = 'edge')"
   ]
  },
  {
   "cell_type": "code",
   "execution_count": 26,
   "id": "74400190",
   "metadata": {},
   "outputs": [],
   "source": [
    "for i in range(len(binEdges)):\n",
    "    binEdges[i] = binEdges[i] + 0.5"
   ]
  },
  {
   "cell_type": "code",
   "execution_count": 27,
   "id": "9fb0b222",
   "metadata": {},
   "outputs": [
    {
     "data": {
      "text/plain": [
       "[<matplotlib.lines.Line2D at 0x24bef84a880>]"
      ]
     },
     "execution_count": 27,
     "metadata": {},
     "output_type": "execute_result"
    },
    {
     "data": {
      "image/png": "[encoded data removed]",
      "text/plain": [
       "<Figure size 432x288 with 1 Axes>"
      ]
     },
     "metadata": {
      "needs_background": "light"
     },
     "output_type": "display_data"
    }
   ],
   "source": [
    "plt.loglog(binEdges[1:], histdd[0], 'o')"
   ]
  },
  {
   "cell_type": "markdown",
   "id": "18d369ef",
   "metadata": {},
   "source": [
    "# 5 Power-laws and the friendship paradox"
   ]
  },
  {
   "cell_type": "code",
   "execution_count": null,
   "id": "5c7be8be",
   "metadata": {},
   "outputs": [],
   "source": []
  }
 ],
 "metadata": {
  "kernelspec": {
   "display_name": "Python 3",
   "language": "python",
   "name": "python3"
  },
  "language_info": {
   "codemirror_mode": {
    "name": "ipython",
    "version": 3
   },
   "file_extension": ".py",
   "mimetype": "text/x-python",
   "name": "python",
   "nbconvert_exporter": "python",
   "pygments_lexer": "ipython3",
   "version": "3.8.8"
  },
  "vscode": {
   "interpreter": {
    "hash": "0a54084e6b208ee8d1ce3989ffc20924477a5f55f5a43e22e699a6741623861e"
   }
  }
 },
 "nbformat": 4,
 "nbformat_minor": 5
}
