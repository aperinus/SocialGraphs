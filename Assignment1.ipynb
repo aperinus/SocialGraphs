{
 "cells": [
  {
   "cell_type": "code",
   "execution_count": 1,
   "id": "56222016",
   "metadata": {},
   "outputs": [
    {
     "name": "stdout",
     "output_type": "stream",
     "text": [
      "<function hideturtle at 0x00000297401F3A68>\n"
     ]
    }
   ],
   "source": [
    "from turtle import hideturtle\n",
    "\n",
    "\n",
    "print(hideturtle)\n"
   ]
  },
  {
   "cell_type": "code",
   "execution_count": null,
   "id": "dc95a0e5",
   "metadata": {},
   "outputs": [],
   "source": []
  }
 ],
 "metadata": {
  "kernelspec": {
   "display_name": "Python 3.7.8 64-bit",
   "language": "python",
   "name": "python3"
  },
  "language_info": {
   "codemirror_mode": {
    "name": "ipython",
    "version": 3
   },
   "file_extension": ".py",
   "mimetype": "text/x-python",
   "name": "python",
   "nbconvert_exporter": "python",
   "pygments_lexer": "ipython3",
   "version": "3.7.8"
  },
  "vscode": {
   "interpreter": {
    "hash": "0a54084e6b208ee8d1ce3989ffc20924477a5f55f5a43e22e699a6741623861e"
   }
  }
 },
 "nbformat": 4,
 "nbformat_minor": 5
}
